{
 "cells": [
  {
   "cell_type": "code",
   "execution_count": 1,
   "id": "8b48f6e3-ef0d-4d07-9be0-31b87685a2c1",
   "metadata": {},
   "outputs": [],
   "source": [
    "import pandas as pd\n",
    "import numpy as np\n",
    "import matplotlib.pyplot as plt\n",
    "import glob"
   ]
  },
  {
   "cell_type": "code",
   "execution_count": 2,
   "id": "27d6b765",
   "metadata": {},
   "outputs": [],
   "source": [
    "folder_path = r\"C:\\Users\\diyas\\Desktop\\Portfolio1\\Cyclistic-bike-share\\all_excel_files\"\n",
    "sheet_names = ['202401-divvy-tripdata', '202402-divvy-tripdata', '202403-divvy-tripdata', \n",
    "               '202404-divvy-tripdata', '202405-divvy-tripdata', '202406-divvy-tripdata', \n",
    "               '202407-divvy-tripdata', '202408-divvy-tripdata', '202409-divvy-tripdata', \n",
    "               '202410-divvy-tripdata', '202411-divvy-tripdata']\n",
    "\n",
    "\n",
    "excel_files = glob.glob(f\"{folder_path}/*.xlsx\")\n",
    "\n",
    "# Define the columns to keep\n",
    "required_columns = ['ride_id', 'rideable_type', 'started_time', 'ended_time', 'member_casual', 'ride_length']\n",
    "\n",
    "# Initialize an empty list to store DataFrames\n",
    "dataframes = []\n",
    "\n",
    "for file, sheet in zip(excel_files, sheet_names):\n",
    "    # Read the Excel file with the specified sheet name\n",
    "    df = pd.read_excel(file, sheet_name=sheet)\n",
    "    \n",
    "    # Select only the required columns\n",
    "    df = df[required_columns]\n",
    "    \n",
    "    # Append the DataFrame to the list\n",
    "    dataframes.append(df)"
   ]
  },
  {
   "cell_type": "code",
   "execution_count": 3,
   "id": "db2f6bac",
   "metadata": {},
   "outputs": [
    {
     "data": {
      "text/plain": [
       "ride_id          0\n",
       "rideable_type    0\n",
       "started_time     0\n",
       "ended_time       0\n",
       "member_casual    0\n",
       "ride_length      0\n",
       "dtype: int64"
      ]
     },
     "execution_count": 3,
     "metadata": {},
     "output_type": "execute_result"
    }
   ],
   "source": [
    "dataframes[0].isnull().sum()"
   ]
  },
  {
   "cell_type": "code",
   "execution_count": 4,
   "id": "dcb485b6",
   "metadata": {},
   "outputs": [
    {
     "data": {
      "text/plain": [
       "ride_id          0\n",
       "rideable_type    0\n",
       "started_time     0\n",
       "ended_time       0\n",
       "member_casual    0\n",
       "ride_length      0\n",
       "dtype: int64"
      ]
     },
     "execution_count": 4,
     "metadata": {},
     "output_type": "execute_result"
    }
   ],
   "source": [
    "dataframes[1].isnull().sum()"
   ]
  },
  {
   "cell_type": "code",
   "execution_count": 5,
   "id": "0394d32e",
   "metadata": {},
   "outputs": [],
   "source": [
    "dataframes[6].dropna(inplace=True)\n"
   ]
  },
  {
   "cell_type": "code",
   "execution_count": 6,
   "id": "d79a092c",
   "metadata": {},
   "outputs": [
    {
     "data": {
      "text/plain": [
       "ride_id          0\n",
       "rideable_type    0\n",
       "started_time     0\n",
       "ended_time       0\n",
       "member_casual    0\n",
       "ride_length      0\n",
       "dtype: int64"
      ]
     },
     "execution_count": 6,
     "metadata": {},
     "output_type": "execute_result"
    }
   ],
   "source": [
    "dataframes[6].isnull().sum()"
   ]
  },
  {
   "cell_type": "code",
   "execution_count": 7,
   "id": "676b2d12",
   "metadata": {},
   "outputs": [
    {
     "data": {
      "text/plain": [
       "ride_id          0\n",
       "rideable_type    0\n",
       "started_time     0\n",
       "ended_time       0\n",
       "member_casual    0\n",
       "ride_length      0\n",
       "dtype: int64"
      ]
     },
     "execution_count": 7,
     "metadata": {},
     "output_type": "execute_result"
    }
   ],
   "source": [
    "dataframes[7].isnull().sum()"
   ]
  },
  {
   "cell_type": "code",
   "execution_count": 8,
   "id": "1fb73f8c",
   "metadata": {},
   "outputs": [
    {
     "data": {
      "text/plain": [
       "ride_id          0\n",
       "rideable_type    0\n",
       "started_time     0\n",
       "ended_time       0\n",
       "member_casual    0\n",
       "ride_length      0\n",
       "dtype: int64"
      ]
     },
     "execution_count": 8,
     "metadata": {},
     "output_type": "execute_result"
    }
   ],
   "source": [
    "dataframes[8].isnull().sum()"
   ]
  },
  {
   "cell_type": "code",
   "execution_count": 9,
   "id": "ef7f673d",
   "metadata": {},
   "outputs": [
    {
     "data": {
      "text/plain": [
       "ride_id          0\n",
       "rideable_type    0\n",
       "started_time     0\n",
       "ended_time       0\n",
       "member_casual    0\n",
       "ride_length      0\n",
       "dtype: int64"
      ]
     },
     "execution_count": 9,
     "metadata": {},
     "output_type": "execute_result"
    }
   ],
   "source": [
    "dataframes[9].isnull().sum()"
   ]
  },
  {
   "cell_type": "code",
   "execution_count": 10,
   "id": "419e8fd8",
   "metadata": {},
   "outputs": [
    {
     "data": {
      "text/plain": [
       "ride_id          0\n",
       "rideable_type    0\n",
       "started_time     0\n",
       "ended_time       0\n",
       "member_casual    0\n",
       "ride_length      0\n",
       "dtype: int64"
      ]
     },
     "execution_count": 10,
     "metadata": {},
     "output_type": "execute_result"
    }
   ],
   "source": [
    "dataframes[10].isnull().sum()"
   ]
  },
  {
   "cell_type": "code",
   "execution_count": 11,
   "id": "766413c1",
   "metadata": {},
   "outputs": [
    {
     "name": "stdout",
     "output_type": "stream",
     "text": [
      "                 ride_id rideable_type started_time ended_time member_casual  \\\n",
      "count             144873        144873       144873     144873        144873   \n",
      "unique            144871             2         1440       1440             2   \n",
      "top     5840000000000000  classic_bike     17:18:00   17:25:00        member   \n",
      "freq                   2         76525          322        311        120413   \n",
      "\n",
      "       ride_length  \n",
      "count       144873  \n",
      "unique         501  \n",
      "top       00:05:00  \n",
      "freq         13850  \n",
      "                 ride_id rideable_type started_time ended_time member_casual  \\\n",
      "count             223164        223164       223164     223164        223164   \n",
      "unique            223164             2         1440       1439             2   \n",
      "top     93EA6DD6E63829ED  classic_bike     17:05:00   17:28:00        member   \n",
      "freq                   1        140314          511        499        176001   \n",
      "\n",
      "       ride_length  \n",
      "count       223164  \n",
      "unique         549  \n",
      "top       00:05:00  \n",
      "freq         18789  \n",
      "                 ride_id  rideable_type started_time ended_time member_casual  \\\n",
      "count             301687         301687       301687     301687        301687   \n",
      "unique            301687              2         1440       1440             2   \n",
      "top     48FC88A2062B2A12  electric_bike     17:18:00   17:25:00        member   \n",
      "freq                   1         153103          656        661        219137   \n",
      "\n",
      "       ride_length  \n",
      "count       301687  \n",
      "unique         561  \n",
      "top       00:05:00  \n",
      "freq         24364  \n",
      "                 ride_id  rideable_type started_time ended_time member_casual  \\\n",
      "count             415025         415025       415025     415025        415025   \n",
      "unique            415025              2         1440       1440             2   \n",
      "top     61F035E8DCBB5313  electric_bike     17:17:00   17:24:00        member   \n",
      "freq                   1         226622          875        841        283215   \n",
      "\n",
      "       ride_length  \n",
      "count       415025  \n",
      "unique         682  \n",
      "top       00:05:00  \n",
      "freq         30210  \n",
      "                     ride_id rideable_type started_time ended_time  \\\n",
      "count                 609493        609493       609493     609493   \n",
      "unique                609492             2         1440       1440   \n",
      "top     49200000000000000000  classic_bike     17:16:00   17:26:00   \n",
      "freq                       2        306789         1181       1193   \n",
      "\n",
      "       member_casual ride_length  \n",
      "count         609493      609493  \n",
      "unique             2         857  \n",
      "top           member    00:05:00  \n",
      "freq          378475       37572  \n",
      "                 ride_id  rideable_type     started_time       ended_time  \\\n",
      "count             710721         710721           710721           710721   \n",
      "unique            710721              2            36000            36000   \n",
      "top     C372E7A1A7BA19D4  electric_bike  00:19:06.600000  00:54:47.700000   \n",
      "freq                   1         373009               39               43   \n",
      "\n",
      "       member_casual      ride_length  \n",
      "count         710721           710721  \n",
      "unique             2            35032  \n",
      "top           member  00:00:01.900000  \n",
      "freq          409594              121  \n",
      "                 ride_id  rideable_type     started_time       ended_time  \\\n",
      "count             748962         748962           748962           748962   \n",
      "unique            748962              2            36000            36000   \n",
      "top     038CFD31016F2C88  electric_bike  00:39:17.500000  00:54:20.900000   \n",
      "freq                   1         378466               43               42   \n",
      "\n",
      "       member_casual ride_length  \n",
      "count         748962      748962  \n",
      "unique             2       35059  \n",
      "top           member    00:00:02  \n",
      "freq          428416         110  \n",
      "                 ride_id  rideable_type     started_time ended_time  \\\n",
      "count             755639         755639           755639     755639   \n",
      "unique            755639              2            36000      36000   \n",
      "top     5CB8C2D9C5C72EBA  electric_bike  00:05:43.400000   00:56:01   \n",
      "freq                   1         402650               41         42   \n",
      "\n",
      "       member_casual ride_length  \n",
      "count         755639      755639  \n",
      "unique             2       35056  \n",
      "top           member    00:00:02  \n",
      "freq          437359         108  \n",
      "                     ride_id  rideable_type started_time       ended_time  \\\n",
      "count                 821276         821276       821276           821276   \n",
      "unique                821275              3        36000            36000   \n",
      "top     34800000000000000000  electric_bike     00:20:49  00:16:36.700000   \n",
      "freq                       2         362377           45               44   \n",
      "\n",
      "       member_casual      ride_length  \n",
      "count         821276           821276  \n",
      "unique             2            35181  \n",
      "top           member  00:04:09.600000  \n",
      "freq          474472              131  \n",
      "                 ride_id  rideable_type     started_time       ended_time  \\\n",
      "count             616281         616281           616281           616281   \n",
      "unique            616281              2            36000            36000   \n",
      "top     375064B7536ABBF6  electric_bike  00:30:28.400000  00:35:08.600000   \n",
      "freq                   1         335671               37               38   \n",
      "\n",
      "       member_casual      ride_length  \n",
      "count         616281           616281  \n",
      "unique             2            35023  \n",
      "top           member  00:05:02.200000  \n",
      "freq          399835               99  \n",
      "                 ride_id  rideable_type     started_time       ended_time  \\\n",
      "count             335075         335075           335075           335075   \n",
      "unique            335075              2            35997            35997   \n",
      "top     5C84C9E88DB67D3B  electric_bike  00:26:49.400000  00:45:21.700000   \n",
      "freq                   1         186951               27               25   \n",
      "\n",
      "       member_casual      ride_length  \n",
      "count         335075           335075  \n",
      "unique             2            33764  \n",
      "top           member  00:04:41.300000  \n",
      "freq          241997               68  \n"
     ]
    }
   ],
   "source": [
    "for i in dataframes:\n",
    "    print(i.describe())\n"
   ]
  },
  {
   "cell_type": "code",
   "execution_count": 12,
   "id": "42a0ca96",
   "metadata": {},
   "outputs": [],
   "source": [
    "jan_df = dataframes[0]\n",
    "feb_df = dataframes[1]\n",
    "mar_df = dataframes[2]\n",
    "apr_df = dataframes[3]\n",
    "may_df = dataframes[4]\n",
    "jun_df = dataframes[5]\n",
    "jul_df = dataframes[6]\n",
    "aug_df = dataframes[7]\n",
    "sept_df = dataframes[8]\n",
    "oct_df = dataframes[9]\n",
    "nov_df = dataframes[10]"
   ]
  },
  {
   "cell_type": "markdown",
   "id": "f1099e35",
   "metadata": {},
   "source": [
    "January Summary\n"
   ]
  },
  {
   "cell_type": "code",
   "execution_count": 13,
   "id": "e936fe05",
   "metadata": {},
   "outputs": [
    {
     "data": {
      "text/plain": [
       "ride_id          144871\n",
       "rideable_type         2\n",
       "member_casual         2\n",
       "dtype: int64"
      ]
     },
     "execution_count": 13,
     "metadata": {},
     "output_type": "execute_result"
    }
   ],
   "source": [
    "jan_df[['ride_id', 'rideable_type','member_casual']].nunique()\n"
   ]
  },
  {
   "cell_type": "code",
   "execution_count": 14,
   "id": "6f8d446c",
   "metadata": {},
   "outputs": [
    {
     "name": "stdout",
     "output_type": "stream",
     "text": [
      "Number of members: 120413\n",
      "Number of casual riders: 24460\n"
     ]
    }
   ],
   "source": [
    "members_count_jan = len(jan_df[jan_df['member_casual']=='member'])\n",
    "casual_count_jan = jan_df[jan_df['member_casual']=='casual'].shape[0]\n",
    "print(f\"Number of members: {members_count_jan}\")\n",
    "print(f\"Number of casual riders: {casual_count_jan}\")\n"
   ]
  },
  {
   "cell_type": "code",
   "execution_count": 15,
   "id": "b0fd49a7",
   "metadata": {},
   "outputs": [
    {
     "name": "stdout",
     "output_type": "stream",
     "text": [
      "Mean ride length for members in Jan: 777.738 seconds (12.962 minutes)\n",
      "Mean ride length for casual users in Jan: 1041.802 seconds (17.363 minutes)\n",
      "Overall mean ride length in Jan: 822.322 seconds (13.705 minutes)\n"
     ]
    }
   ],
   "source": [
    "# Convert 'ride_length' from datetime.time to total duration in seconds\n",
    "jan_df['ride_length_seconds'] = jan_df['ride_length'].apply(lambda x: x.hour * 3600 + x.minute * 60 + x.second)\n",
    "mean_ride_length_seconds_overall = jan_df['ride_length_seconds'].mean()\n",
    "mean_ride_length_minutes_overall_jan = mean_ride_length_seconds_overall / 60\n",
    "\n",
    "members_df = jan_df[jan_df['member_casual']=='member']\n",
    "casual_df = jan_df[jan_df['member_casual']=='casual']\n",
    "\n",
    "mean_ride_length_seconds_members = members_df['ride_length_seconds'].mean()\n",
    "mean_ride_length_minutes_members_jan = mean_ride_length_seconds_members / 60\n",
    "\n",
    "mean_ride_length_seconds_casual = casual_df['ride_length_seconds'].mean()\n",
    "mean_ride_length_minutes_casual_jan = mean_ride_length_seconds_casual / 60\n",
    "\n",
    "\n",
    "print(f\"Mean ride length for members in Jan: {mean_ride_length_seconds_members:.3f} seconds ({mean_ride_length_minutes_members_jan:.3f} minutes)\")\n",
    "print(f\"Mean ride length for casual users in Jan: {mean_ride_length_seconds_casual:.3f} seconds ({mean_ride_length_minutes_casual_jan:.3f} minutes)\")\n",
    "print(f\"Overall mean ride length in Jan: {mean_ride_length_seconds_overall:.3f} seconds ({mean_ride_length_minutes_overall_jan:.3f} minutes)\")\n"
   ]
  },
  {
   "cell_type": "code",
   "execution_count": 16,
   "id": "08b6e3fa",
   "metadata": {},
   "outputs": [
    {
     "data": {
      "text/plain": [
       "count    144873.000000\n",
       "mean        822.321758\n",
       "std        3889.183846\n",
       "min           0.000000\n",
       "25%         240.000000\n",
       "50%         420.000000\n",
       "75%         720.000000\n",
       "max       86340.000000\n",
       "Name: ride_length_seconds, dtype: float64"
      ]
     },
     "execution_count": 16,
     "metadata": {},
     "output_type": "execute_result"
    }
   ],
   "source": [
    "jan_df['ride_length_seconds'].describe()"
   ]
  },
  {
   "cell_type": "code",
   "execution_count": 17,
   "id": "5281bfc8",
   "metadata": {},
   "outputs": [
    {
     "name": "stdout",
     "output_type": "stream",
     "text": [
      "Maximum ride length in Jan: 86340 seconds (1439.0 minutes)\n"
     ]
    }
   ],
   "source": [
    "maximum = jan_df['ride_length_seconds'].max()\n",
    "maximum_ride_minutes_jan = maximum/60\n",
    "print(f\"Maximum ride length in Jan: {maximum} seconds ({maximum_ride_minutes_jan} minutes)\")"
   ]
  },
  {
   "cell_type": "code",
   "execution_count": 18,
   "id": "ea166440",
   "metadata": {},
   "outputs": [
    {
     "name": "stdout",
     "output_type": "stream",
     "text": [
      "Minimum ride length in Jan: 0 seconds (0.0 minutes)\n"
     ]
    }
   ],
   "source": [
    "minimum = jan_df['ride_length_seconds'].min()\n",
    "minimum_ride_minutes_jan = minimum/60\n",
    "print(f\"Minimum ride length in Jan: {minimum} seconds ({minimum_ride_minutes_jan} minutes)\")"
   ]
  },
  {
   "cell_type": "code",
   "execution_count": 19,
   "id": "00a0d515",
   "metadata": {},
   "outputs": [
    {
     "data": {
      "text/html": [
       "<div>\n",
       "<style scoped>\n",
       "    .dataframe tbody tr th:only-of-type {\n",
       "        vertical-align: middle;\n",
       "    }\n",
       "\n",
       "    .dataframe tbody tr th {\n",
       "        vertical-align: top;\n",
       "    }\n",
       "\n",
       "    .dataframe thead th {\n",
       "        text-align: right;\n",
       "    }\n",
       "</style>\n",
       "<table border=\"1\" class=\"dataframe\">\n",
       "  <thead>\n",
       "    <tr style=\"text-align: right;\">\n",
       "      <th></th>\n",
       "      <th>ride_id</th>\n",
       "      <th>rideable_type</th>\n",
       "      <th>started_time</th>\n",
       "      <th>ended_time</th>\n",
       "      <th>member_casual</th>\n",
       "      <th>ride_length</th>\n",
       "      <th>ride_length_seconds</th>\n",
       "    </tr>\n",
       "  </thead>\n",
       "  <tbody>\n",
       "    <tr>\n",
       "      <th>0</th>\n",
       "      <td>C1D650626C8C899A</td>\n",
       "      <td>electric_bike</td>\n",
       "      <td>15:30:00</td>\n",
       "      <td>15:37:00</td>\n",
       "      <td>member</td>\n",
       "      <td>00:07:00</td>\n",
       "      <td>420</td>\n",
       "    </tr>\n",
       "    <tr>\n",
       "      <th>1</th>\n",
       "      <td>EECD38BDB25BFCB0</td>\n",
       "      <td>electric_bike</td>\n",
       "      <td>15:45:00</td>\n",
       "      <td>15:52:00</td>\n",
       "      <td>member</td>\n",
       "      <td>00:07:00</td>\n",
       "      <td>420</td>\n",
       "    </tr>\n",
       "    <tr>\n",
       "      <th>2</th>\n",
       "      <td>F4A9CE78061F17F7</td>\n",
       "      <td>electric_bike</td>\n",
       "      <td>12:27:00</td>\n",
       "      <td>12:35:00</td>\n",
       "      <td>member</td>\n",
       "      <td>00:08:00</td>\n",
       "      <td>480</td>\n",
       "    </tr>\n",
       "    <tr>\n",
       "      <th>3</th>\n",
       "      <td>0A0D9E15EE50B171</td>\n",
       "      <td>classic_bike</td>\n",
       "      <td>16:26:00</td>\n",
       "      <td>16:56:00</td>\n",
       "      <td>member</td>\n",
       "      <td>00:30:00</td>\n",
       "      <td>1800</td>\n",
       "    </tr>\n",
       "    <tr>\n",
       "      <th>4</th>\n",
       "      <td>33FFC9805E3EFF9A</td>\n",
       "      <td>classic_bike</td>\n",
       "      <td>05:43:00</td>\n",
       "      <td>06:09:00</td>\n",
       "      <td>member</td>\n",
       "      <td>00:26:00</td>\n",
       "      <td>1560</td>\n",
       "    </tr>\n",
       "  </tbody>\n",
       "</table>\n",
       "</div>"
      ],
      "text/plain": [
       "            ride_id  rideable_type started_time ended_time member_casual  \\\n",
       "0  C1D650626C8C899A  electric_bike     15:30:00   15:37:00        member   \n",
       "1  EECD38BDB25BFCB0  electric_bike     15:45:00   15:52:00        member   \n",
       "2  F4A9CE78061F17F7  electric_bike     12:27:00   12:35:00        member   \n",
       "3  0A0D9E15EE50B171   classic_bike     16:26:00   16:56:00        member   \n",
       "4  33FFC9805E3EFF9A   classic_bike     05:43:00   06:09:00        member   \n",
       "\n",
       "  ride_length  ride_length_seconds  \n",
       "0    00:07:00                  420  \n",
       "1    00:07:00                  420  \n",
       "2    00:08:00                  480  \n",
       "3    00:30:00                 1800  \n",
       "4    00:26:00                 1560  "
      ]
     },
     "execution_count": 19,
     "metadata": {},
     "output_type": "execute_result"
    }
   ],
   "source": [
    "jan_df.head(5)"
   ]
  },
  {
   "cell_type": "markdown",
   "id": "2cbbe794",
   "metadata": {},
   "source": [
    "February Summary"
   ]
  },
  {
   "cell_type": "code",
   "execution_count": 20,
   "id": "d8bf63e4",
   "metadata": {},
   "outputs": [
    {
     "data": {
      "text/plain": [
       "ride_id          223164\n",
       "rideable_type         2\n",
       "member_casual         2\n",
       "dtype: int64"
      ]
     },
     "execution_count": 20,
     "metadata": {},
     "output_type": "execute_result"
    }
   ],
   "source": [
    "feb_df[['ride_id', 'rideable_type','member_casual']].nunique()\n"
   ]
  },
  {
   "cell_type": "code",
   "execution_count": 21,
   "id": "d985d64f",
   "metadata": {},
   "outputs": [
    {
     "data": {
      "text/html": [
       "<div>\n",
       "<style scoped>\n",
       "    .dataframe tbody tr th:only-of-type {\n",
       "        vertical-align: middle;\n",
       "    }\n",
       "\n",
       "    .dataframe tbody tr th {\n",
       "        vertical-align: top;\n",
       "    }\n",
       "\n",
       "    .dataframe thead th {\n",
       "        text-align: right;\n",
       "    }\n",
       "</style>\n",
       "<table border=\"1\" class=\"dataframe\">\n",
       "  <thead>\n",
       "    <tr style=\"text-align: right;\">\n",
       "      <th></th>\n",
       "      <th>ride_id</th>\n",
       "      <th>rideable_type</th>\n",
       "      <th>started_time</th>\n",
       "      <th>ended_time</th>\n",
       "      <th>member_casual</th>\n",
       "      <th>ride_length</th>\n",
       "    </tr>\n",
       "  </thead>\n",
       "  <tbody>\n",
       "    <tr>\n",
       "      <th>count</th>\n",
       "      <td>223164</td>\n",
       "      <td>223164</td>\n",
       "      <td>223164</td>\n",
       "      <td>223164</td>\n",
       "      <td>223164</td>\n",
       "      <td>223164</td>\n",
       "    </tr>\n",
       "    <tr>\n",
       "      <th>unique</th>\n",
       "      <td>223164</td>\n",
       "      <td>2</td>\n",
       "      <td>1440</td>\n",
       "      <td>1439</td>\n",
       "      <td>2</td>\n",
       "      <td>549</td>\n",
       "    </tr>\n",
       "    <tr>\n",
       "      <th>top</th>\n",
       "      <td>93EA6DD6E63829ED</td>\n",
       "      <td>classic_bike</td>\n",
       "      <td>17:05:00</td>\n",
       "      <td>17:28:00</td>\n",
       "      <td>member</td>\n",
       "      <td>00:05:00</td>\n",
       "    </tr>\n",
       "    <tr>\n",
       "      <th>freq</th>\n",
       "      <td>1</td>\n",
       "      <td>140314</td>\n",
       "      <td>511</td>\n",
       "      <td>499</td>\n",
       "      <td>176001</td>\n",
       "      <td>18789</td>\n",
       "    </tr>\n",
       "  </tbody>\n",
       "</table>\n",
       "</div>"
      ],
      "text/plain": [
       "                 ride_id rideable_type started_time ended_time member_casual  \\\n",
       "count             223164        223164       223164     223164        223164   \n",
       "unique            223164             2         1440       1439             2   \n",
       "top     93EA6DD6E63829ED  classic_bike     17:05:00   17:28:00        member   \n",
       "freq                   1        140314          511        499        176001   \n",
       "\n",
       "       ride_length  \n",
       "count       223164  \n",
       "unique         549  \n",
       "top       00:05:00  \n",
       "freq         18789  "
      ]
     },
     "execution_count": 21,
     "metadata": {},
     "output_type": "execute_result"
    }
   ],
   "source": [
    "feb_df.describe()"
   ]
  },
  {
   "cell_type": "code",
   "execution_count": 22,
   "id": "cd93ecdd",
   "metadata": {},
   "outputs": [
    {
     "name": "stdout",
     "output_type": "stream",
     "text": [
      "Number of members: 176001\n",
      "Number of casual riders: 47163\n"
     ]
    }
   ],
   "source": [
    "members_count_feb = len(feb_df[feb_df['member_casual']=='member'])\n",
    "casual_count_feb = feb_df[feb_df['member_casual']=='casual'].shape[0]\n",
    "print(f\"Number of members: {members_count_feb}\")\n",
    "print(f\"Number of casual riders: {casual_count_feb}\")\n"
   ]
  },
  {
   "cell_type": "code",
   "execution_count": 23,
   "id": "c9a13325",
   "metadata": {},
   "outputs": [
    {
     "name": "stdout",
     "output_type": "stream",
     "text": [
      "Mean ride length for members in Feb: 792.401 seconds (13.207 minutes)\n",
      "Mean ride length for casual users in Feb: 1305.917 seconds (21.765 minutes)\n",
      "Overall mean ride length in Feb: 900.926 seconds (15.015 minutes)\n"
     ]
    }
   ],
   "source": [
    "# Convert 'ride_length' from datetime.time to total duration in seconds\n",
    "feb_df['ride_length_seconds'] = feb_df['ride_length'].apply(lambda x: x.hour * 3600 + x.minute * 60 + x.second)\n",
    "mean_ride_length_seconds_overall = feb_df['ride_length_seconds'].mean()\n",
    "mean_ride_length_minutes_overall_feb = mean_ride_length_seconds_overall / 60\n",
    "\n",
    "members_df = feb_df[feb_df['member_casual']=='member']\n",
    "casual_df = feb_df[feb_df['member_casual']=='casual']\n",
    "\n",
    "mean_ride_length_seconds_members = members_df['ride_length_seconds'].mean()\n",
    "mean_ride_length_minutes_members_feb = mean_ride_length_seconds_members / 60\n",
    "\n",
    "mean_ride_length_seconds_casual = casual_df['ride_length_seconds'].mean()\n",
    "mean_ride_length_minutes_casual_feb = mean_ride_length_seconds_casual / 60\n",
    "\n",
    "\n",
    "print(f\"Mean ride length for members in Feb: {mean_ride_length_seconds_members:.3f} seconds ({mean_ride_length_minutes_members_feb:.3f} minutes)\")\n",
    "print(f\"Mean ride length for casual users in Feb: {mean_ride_length_seconds_casual:.3f} seconds ({mean_ride_length_minutes_casual_feb:.3f} minutes)\")\n",
    "print(f\"Overall mean ride length in Feb: {mean_ride_length_seconds_overall:.3f} seconds ({mean_ride_length_minutes_overall_feb:.3f} minutes)\")\n"
   ]
  },
  {
   "cell_type": "code",
   "execution_count": 24,
   "id": "4eff1190",
   "metadata": {},
   "outputs": [
    {
     "data": {
      "text/plain": [
       "count    223164.000000\n",
       "mean        900.926225\n",
       "std        3676.547132\n",
       "min           0.000000\n",
       "25%         300.000000\n",
       "50%         480.000000\n",
       "75%         840.000000\n",
       "max       86340.000000\n",
       "Name: ride_length_seconds, dtype: float64"
      ]
     },
     "execution_count": 24,
     "metadata": {},
     "output_type": "execute_result"
    }
   ],
   "source": [
    "feb_df['ride_length_seconds'].describe()"
   ]
  },
  {
   "cell_type": "code",
   "execution_count": 25,
   "id": "6539dc17",
   "metadata": {},
   "outputs": [
    {
     "name": "stdout",
     "output_type": "stream",
     "text": [
      "Maximum ride length in Feb:86340 seconds (1439.0 minutes)\n"
     ]
    }
   ],
   "source": [
    "maximum = feb_df['ride_length_seconds'].max()\n",
    "maximum_ride_minutes_feb = maximum/60\n",
    "print(f\"Maximum ride length in Feb:{maximum} seconds ({maximum_ride_minutes_feb} minutes)\")"
   ]
  },
  {
   "cell_type": "code",
   "execution_count": 26,
   "id": "81fc206f",
   "metadata": {},
   "outputs": [
    {
     "name": "stdout",
     "output_type": "stream",
     "text": [
      "Minimum ride length in Feb: 0 seconds (0.0 minutes)\n"
     ]
    }
   ],
   "source": [
    "minimum = feb_df['ride_length_seconds'].min()\n",
    "minimum_ride_minutes_feb = minimum/60\n",
    "print(f\"Minimum ride length in Feb: {minimum} seconds ({minimum_ride_minutes_feb} minutes)\")"
   ]
  },
  {
   "cell_type": "markdown",
   "id": "14aa773f",
   "metadata": {},
   "source": [
    "March Summary\n"
   ]
  },
  {
   "cell_type": "code",
   "execution_count": 27,
   "id": "4e975910",
   "metadata": {},
   "outputs": [
    {
     "data": {
      "text/plain": [
       "ride_id          301687\n",
       "rideable_type         2\n",
       "member_casual         2\n",
       "dtype: int64"
      ]
     },
     "execution_count": 27,
     "metadata": {},
     "output_type": "execute_result"
    }
   ],
   "source": [
    "mar_df[['ride_id', 'rideable_type','member_casual']].nunique()\n"
   ]
  },
  {
   "cell_type": "code",
   "execution_count": 28,
   "id": "afcc6ac2",
   "metadata": {},
   "outputs": [
    {
     "name": "stdout",
     "output_type": "stream",
     "text": [
      "Number of members: 219137\n",
      "Number of casual riders: 82550\n"
     ]
    }
   ],
   "source": [
    "members_count_mar = len(mar_df[mar_df['member_casual']=='member'])\n",
    "casual_count_mar = mar_df[mar_df['member_casual']=='casual'].shape[0]\n",
    "print(f\"Number of members: {members_count_mar}\")\n",
    "print(f\"Number of casual riders: {casual_count_mar}\")"
   ]
  },
  {
   "cell_type": "code",
   "execution_count": 29,
   "id": "a5da945e",
   "metadata": {},
   "outputs": [
    {
     "name": "stdout",
     "output_type": "stream",
     "text": [
      "Mean ride length for members in Mar: 822.833 seconds (13.714 minutes)\n",
      "Mean ride length for casual users in Mar: 1509.954 seconds (25.166 minutes)\n",
      "Overall mean ride length in Mar: 1010.848 seconds (16.847 minutes)\n"
     ]
    }
   ],
   "source": [
    "# Convert 'ride_length' from datetime.time to total duration in seconds\n",
    "mar_df['ride_length_seconds'] = mar_df['ride_length'].apply(lambda x: x.hour * 3600 + x.minute * 60 + x.second)\n",
    "mean_ride_length_seconds_overall = mar_df['ride_length_seconds'].mean()\n",
    "mean_ride_length_minutes_overall_mar = mean_ride_length_seconds_overall / 60\n",
    "\n",
    "members_df = mar_df[mar_df['member_casual']=='member']\n",
    "casual_df = mar_df[mar_df['member_casual']=='casual']\n",
    "\n",
    "mean_ride_length_seconds_members = members_df['ride_length_seconds'].mean()\n",
    "mean_ride_length_minutes_members_mar = mean_ride_length_seconds_members / 60\n",
    "\n",
    "mean_ride_length_seconds_casual = casual_df['ride_length_seconds'].mean()\n",
    "mean_ride_length_minutes_casual_mar = mean_ride_length_seconds_casual / 60\n",
    "\n",
    "\n",
    "print(f\"Mean ride length for members in Mar: {mean_ride_length_seconds_members:.3f} seconds ({mean_ride_length_minutes_members_mar:.3f} minutes)\")\n",
    "print(f\"Mean ride length for casual users in Mar: {mean_ride_length_seconds_casual:.3f} seconds ({mean_ride_length_minutes_casual_mar:.3f} minutes)\")\n",
    "print(f\"Overall mean ride length in Mar: {mean_ride_length_seconds_overall:.3f} seconds ({mean_ride_length_minutes_overall_mar:.3f} minutes)\")\n"
   ]
  },
  {
   "cell_type": "code",
   "execution_count": 30,
   "id": "8d6cfc42",
   "metadata": {},
   "outputs": [
    {
     "data": {
      "text/plain": [
       "count    301687.000000\n",
       "mean       1010.848263\n",
       "std        4443.046027\n",
       "min           0.000000\n",
       "25%         300.000000\n",
       "50%         540.000000\n",
       "75%         900.000000\n",
       "max       86340.000000\n",
       "Name: ride_length_seconds, dtype: float64"
      ]
     },
     "execution_count": 30,
     "metadata": {},
     "output_type": "execute_result"
    }
   ],
   "source": [
    "mar_df['ride_length_seconds'].describe()"
   ]
  },
  {
   "cell_type": "code",
   "execution_count": 31,
   "id": "e0ea381d",
   "metadata": {},
   "outputs": [
    {
     "name": "stdout",
     "output_type": "stream",
     "text": [
      "Maximum ride length in Mar:86340 seconds (1439.0 minutes)\n"
     ]
    }
   ],
   "source": [
    "maximum = mar_df['ride_length_seconds'].max()\n",
    "maximum_ride_minutes_mar = maximum/60\n",
    "print(f\"Maximum ride length in Mar:{maximum} seconds ({maximum_ride_minutes_mar} minutes)\")"
   ]
  },
  {
   "cell_type": "code",
   "execution_count": 32,
   "id": "50a3f792",
   "metadata": {},
   "outputs": [
    {
     "name": "stdout",
     "output_type": "stream",
     "text": [
      "Minimum ride length in Mar: 0 seconds (0.0 minutes)\n"
     ]
    }
   ],
   "source": [
    "minimum = mar_df['ride_length_seconds'].min()\n",
    "minimum_ride_minutes_mar = minimum/60\n",
    "print(f\"Minimum ride length in Mar: {minimum} seconds ({minimum_ride_minutes_mar} minutes)\")"
   ]
  },
  {
   "cell_type": "markdown",
   "id": "65100fd4",
   "metadata": {},
   "source": [
    "April Summary\n"
   ]
  },
  {
   "cell_type": "code",
   "execution_count": 33,
   "id": "43c30a87",
   "metadata": {},
   "outputs": [
    {
     "data": {
      "text/plain": [
       "ride_id          415025\n",
       "rideable_type         2\n",
       "member_casual         2\n",
       "dtype: int64"
      ]
     },
     "execution_count": 33,
     "metadata": {},
     "output_type": "execute_result"
    }
   ],
   "source": [
    "apr_df[['ride_id', 'rideable_type','member_casual']].nunique()\n"
   ]
  },
  {
   "cell_type": "code",
   "execution_count": 34,
   "id": "a7c1b4f6",
   "metadata": {},
   "outputs": [
    {
     "name": "stdout",
     "output_type": "stream",
     "text": [
      "Number of members: 283215\n",
      "Number of casual riders: 131810\n"
     ]
    }
   ],
   "source": [
    "members_count_apr = len(apr_df[apr_df['member_casual']=='member'])\n",
    "casual_count_apr = apr_df[apr_df['member_casual']=='casual'].shape[0]\n",
    "print(f\"Number of members: {members_count_apr}\")\n",
    "print(f\"Number of casual riders: {casual_count_apr}\")"
   ]
  },
  {
   "cell_type": "code",
   "execution_count": 35,
   "id": "913cd729",
   "metadata": {},
   "outputs": [
    {
     "name": "stdout",
     "output_type": "stream",
     "text": [
      "Mean ride length for members in Apr: 855.770 seconds (14.263 minutes)\n",
      "Mean ride length for casual users in Apr: 1601.032 seconds (26.684 minutes)\n",
      "Overall mean ride length in Apr: 1092.461 seconds (18.208 minutes)\n"
     ]
    }
   ],
   "source": [
    "# Convert 'ride_length' from datetime.time to total duration in seconds\n",
    "apr_df['ride_length_seconds'] = apr_df['ride_length'].apply(lambda x: x.hour * 3600 + x.minute * 60 + x.second)\n",
    "mean_ride_length_seconds_overall = apr_df['ride_length_seconds'].mean()\n",
    "mean_ride_length_minutes_overall_apr = mean_ride_length_seconds_overall / 60\n",
    "\n",
    "members_df = apr_df[apr_df['member_casual']=='member']\n",
    "casual_df = apr_df[apr_df['member_casual']=='casual']\n",
    "\n",
    "mean_ride_length_seconds_members = members_df['ride_length_seconds'].mean()\n",
    "mean_ride_length_minutes_members_apr = mean_ride_length_seconds_members / 60\n",
    "\n",
    "mean_ride_length_seconds_casual = casual_df['ride_length_seconds'].mean()\n",
    "mean_ride_length_minutes_casual_apr = mean_ride_length_seconds_casual / 60\n",
    "\n",
    "\n",
    "print(f\"Mean ride length for members in Apr: {mean_ride_length_seconds_members:.3f} seconds ({mean_ride_length_minutes_members_apr:.3f} minutes)\")\n",
    "print(f\"Mean ride length for casual users in Apr: {mean_ride_length_seconds_casual:.3f} seconds ({mean_ride_length_minutes_casual_apr:.3f} minutes)\")\n",
    "print(f\"Overall mean ride length in Apr: {mean_ride_length_seconds_overall:.3f} seconds ({mean_ride_length_minutes_overall_apr:.3f} minutes)\")\n"
   ]
  },
  {
   "cell_type": "code",
   "execution_count": 36,
   "id": "ededa48a",
   "metadata": {},
   "outputs": [
    {
     "data": {
      "text/plain": [
       "count    415025.000000\n",
       "mean       1092.461466\n",
       "std        4465.926088\n",
       "min           0.000000\n",
       "25%         300.000000\n",
       "50%         540.000000\n",
       "75%        1020.000000\n",
       "max       86340.000000\n",
       "Name: ride_length_seconds, dtype: float64"
      ]
     },
     "execution_count": 36,
     "metadata": {},
     "output_type": "execute_result"
    }
   ],
   "source": [
    "apr_df['ride_length_seconds'].describe()"
   ]
  },
  {
   "cell_type": "code",
   "execution_count": 37,
   "id": "2d28db47",
   "metadata": {},
   "outputs": [
    {
     "name": "stdout",
     "output_type": "stream",
     "text": [
      "Maximum ride length in Apr:86340 seconds (1439.0 minutes)\n"
     ]
    }
   ],
   "source": [
    "maximum = apr_df['ride_length_seconds'].max()\n",
    "maximum_ride_minutes_apr = maximum/60\n",
    "print(f\"Maximum ride length in Apr:{maximum} seconds ({maximum_ride_minutes_apr} minutes)\")"
   ]
  },
  {
   "cell_type": "code",
   "execution_count": 38,
   "id": "81f83aef",
   "metadata": {},
   "outputs": [
    {
     "name": "stdout",
     "output_type": "stream",
     "text": [
      "Minimum ride length in Apr: 0 seconds (0.0 minutes)\n"
     ]
    }
   ],
   "source": [
    "minimum = apr_df['ride_length_seconds'].min()\n",
    "minimum_ride_minutes_apr = minimum/60\n",
    "print(f\"Minimum ride length in Apr: {minimum} seconds ({minimum_ride_minutes_apr} minutes)\")"
   ]
  },
  {
   "cell_type": "markdown",
   "id": "2d552e54",
   "metadata": {},
   "source": [
    "May Summary"
   ]
  },
  {
   "cell_type": "code",
   "execution_count": 39,
   "id": "a7f6bee6",
   "metadata": {},
   "outputs": [
    {
     "data": {
      "text/plain": [
       "ride_id          609492\n",
       "rideable_type         2\n",
       "member_casual         2\n",
       "dtype: int64"
      ]
     },
     "execution_count": 39,
     "metadata": {},
     "output_type": "execute_result"
    }
   ],
   "source": [
    "may_df[['ride_id', 'rideable_type','member_casual']].nunique()\n"
   ]
  },
  {
   "cell_type": "code",
   "execution_count": 40,
   "id": "15d730d8",
   "metadata": {},
   "outputs": [
    {
     "name": "stdout",
     "output_type": "stream",
     "text": [
      "Number of members: 378475\n",
      "Number of casual riders: 231018\n"
     ]
    }
   ],
   "source": [
    "members_count_may = len(may_df[may_df['member_casual']=='member'])\n",
    "casual_count_may = may_df[may_df['member_casual']=='casual'].shape[0]\n",
    "print(f\"Number of members: {members_count_may}\")\n",
    "print(f\"Number of casual riders: {casual_count_may}\")"
   ]
  },
  {
   "cell_type": "code",
   "execution_count": 41,
   "id": "70807b4a",
   "metadata": {},
   "outputs": [
    {
     "name": "stdout",
     "output_type": "stream",
     "text": [
      "Mean ride length for members in May: 967.931 seconds (16.132 minutes)\n",
      "Mean ride length for casual users in May: 1805.293 seconds (30.088 minutes)\n",
      "Overall mean ride length in May: 1285.319 seconds (21.422 minutes)\n"
     ]
    }
   ],
   "source": [
    "# Convert 'ride_length' from datetime.time to total duration in seconds\n",
    "may_df['ride_length_seconds'] = may_df['ride_length'].apply(lambda x: x.hour * 3600 + x.minute * 60 + x.second)\n",
    "mean_ride_length_seconds_overall = may_df['ride_length_seconds'].mean()\n",
    "mean_ride_length_minutes_overall_may = mean_ride_length_seconds_overall / 60\n",
    "\n",
    "members_df = may_df[may_df['member_casual']=='member']\n",
    "casual_df = may_df[may_df['member_casual']=='casual']\n",
    "\n",
    "mean_ride_length_seconds_members = members_df['ride_length_seconds'].mean()\n",
    "mean_ride_length_minutes_members_may = mean_ride_length_seconds_members / 60\n",
    "\n",
    "mean_ride_length_seconds_casual = casual_df['ride_length_seconds'].mean()\n",
    "mean_ride_length_minutes_casual_may = mean_ride_length_seconds_casual / 60\n",
    "\n",
    "\n",
    "print(f\"Mean ride length for members in May: {mean_ride_length_seconds_members:.3f} seconds ({mean_ride_length_minutes_members_may:.3f} minutes)\")\n",
    "print(f\"Mean ride length for casual users in May: {mean_ride_length_seconds_casual:.3f} seconds ({mean_ride_length_minutes_casual_may:.3f} minutes)\")\n",
    "print(f\"Overall mean ride length in May: {mean_ride_length_seconds_overall:.3f} seconds ({mean_ride_length_minutes_overall_may:.3f} minutes)\")\n"
   ]
  },
  {
   "cell_type": "code",
   "execution_count": 42,
   "id": "9a37f8a6",
   "metadata": {},
   "outputs": [
    {
     "data": {
      "text/plain": [
       "count    609493.000000\n",
       "mean       1285.318814\n",
       "std        5135.927433\n",
       "min           0.000000\n",
       "25%         360.000000\n",
       "50%         660.000000\n",
       "75%        1140.000000\n",
       "max       86340.000000\n",
       "Name: ride_length_seconds, dtype: float64"
      ]
     },
     "execution_count": 42,
     "metadata": {},
     "output_type": "execute_result"
    }
   ],
   "source": [
    "may_df['ride_length_seconds'].describe()"
   ]
  },
  {
   "cell_type": "code",
   "execution_count": 43,
   "id": "5569a209",
   "metadata": {},
   "outputs": [
    {
     "name": "stdout",
     "output_type": "stream",
     "text": [
      "Maximum ride length in May:86340 seconds (1439.0 minutes)\n"
     ]
    }
   ],
   "source": [
    "maximum = may_df['ride_length_seconds'].max()\n",
    "maximum_ride_minutes_may = maximum/60\n",
    "print(f\"Maximum ride length in May:{maximum} seconds ({maximum_ride_minutes_may} minutes)\")"
   ]
  },
  {
   "cell_type": "code",
   "execution_count": 44,
   "id": "151ea4f9",
   "metadata": {},
   "outputs": [
    {
     "name": "stdout",
     "output_type": "stream",
     "text": [
      "Minimum ride length in May: 0 seconds (0.0 minutes)\n"
     ]
    }
   ],
   "source": [
    "minimum = may_df['ride_length_seconds'].min()\n",
    "minimum_ride_minutes_may = minimum/60\n",
    "print(f\"Minimum ride length in May: {minimum} seconds ({minimum_ride_minutes_may} minutes)\")"
   ]
  },
  {
   "cell_type": "markdown",
   "id": "5fecc1de",
   "metadata": {},
   "source": [
    "June Summary"
   ]
  },
  {
   "cell_type": "code",
   "execution_count": 45,
   "id": "6f01e422",
   "metadata": {},
   "outputs": [
    {
     "data": {
      "text/plain": [
       "ride_id          710721\n",
       "rideable_type         2\n",
       "member_casual         2\n",
       "dtype: int64"
      ]
     },
     "execution_count": 45,
     "metadata": {},
     "output_type": "execute_result"
    }
   ],
   "source": [
    "jun_df[['ride_id', 'rideable_type','member_casual']].nunique()\n"
   ]
  },
  {
   "cell_type": "code",
   "execution_count": 46,
   "id": "56c83576",
   "metadata": {},
   "outputs": [
    {
     "name": "stdout",
     "output_type": "stream",
     "text": [
      "Number of members: 409594\n",
      "Number of casual riders: 301127\n"
     ]
    }
   ],
   "source": [
    "members_count_jun = len(jun_df[jun_df['member_casual']=='member'])\n",
    "casual_count_jun = jun_df[jun_df['member_casual']=='casual'].shape[0]\n",
    "print(f\"Number of members: {members_count_jun}\")\n",
    "print(f\"Number of casual riders: {casual_count_jun}\")"
   ]
  },
  {
   "cell_type": "code",
   "execution_count": 47,
   "id": "a864cec1",
   "metadata": {},
   "outputs": [
    {
     "name": "stdout",
     "output_type": "stream",
     "text": [
      "Mean ride length for members in June: 990.140 seconds (16.502 minutes)\n",
      "Mean ride length for casual users in June: 1100.908 seconds (18.348 minutes)\n",
      "Overall mean ride length in June: 1285.319 seconds (21.422 minutes)\n"
     ]
    }
   ],
   "source": [
    "# Convert 'ride_length' from datetime.time to total duration in seconds\n",
    "jun_df['ride_length_seconds'] = jun_df['ride_length'].apply(lambda x: x.hour * 3600 + x.minute * 60 + x.second)\n",
    "mean_ride_length_seconds_overall = may_df['ride_length_seconds'].mean()\n",
    "mean_ride_length_minutes_overall_jun = mean_ride_length_seconds_overall / 60\n",
    "\n",
    "members_df = jun_df[jun_df['member_casual']=='member']\n",
    "casual_df = jun_df[jun_df['member_casual']=='casual']\n",
    "\n",
    "mean_ride_length_seconds_members = members_df['ride_length_seconds'].mean()\n",
    "mean_ride_length_minutes_members_jun = mean_ride_length_seconds_members / 60\n",
    "\n",
    "mean_ride_length_seconds_casual = casual_df['ride_length_seconds'].mean()\n",
    "mean_ride_length_minutes_casual_jun = mean_ride_length_seconds_casual / 60\n",
    "\n",
    "\n",
    "print(f\"Mean ride length for members in June: {mean_ride_length_seconds_members:.3f} seconds ({mean_ride_length_minutes_members_jun:.3f} minutes)\")\n",
    "print(f\"Mean ride length for casual users in June: {mean_ride_length_seconds_casual:.3f} seconds ({mean_ride_length_minutes_casual_jun:.3f} minutes)\")\n",
    "print(f\"Overall mean ride length in June: {mean_ride_length_seconds_overall:.3f} seconds ({mean_ride_length_minutes_overall_jun:.3f} minutes)\")\n"
   ]
  },
  {
   "cell_type": "code",
   "execution_count": 48,
   "id": "4273098d",
   "metadata": {},
   "outputs": [
    {
     "data": {
      "text/plain": [
       "count    710721.000000\n",
       "mean       1037.071415\n",
       "std         887.684694\n",
       "min           0.000000\n",
       "25%         377.000000\n",
       "50%         704.000000\n",
       "75%        1452.000000\n",
       "max        3597.000000\n",
       "Name: ride_length_seconds, dtype: float64"
      ]
     },
     "execution_count": 48,
     "metadata": {},
     "output_type": "execute_result"
    }
   ],
   "source": [
    "jun_df['ride_length_seconds'].describe()"
   ]
  },
  {
   "cell_type": "code",
   "execution_count": 49,
   "id": "249277a6",
   "metadata": {},
   "outputs": [
    {
     "name": "stdout",
     "output_type": "stream",
     "text": [
      "Maximum ride length in Jun:3597 seconds (59.95 minutes)\n"
     ]
    }
   ],
   "source": [
    "maximum = jun_df['ride_length_seconds'].max()\n",
    "maximum_ride_minutes_jun = maximum/60\n",
    "print(f\"Maximum ride length in Jun:{maximum} seconds ({maximum_ride_minutes_jun} minutes)\")"
   ]
  },
  {
   "cell_type": "code",
   "execution_count": 50,
   "id": "78c695c0",
   "metadata": {},
   "outputs": [
    {
     "name": "stdout",
     "output_type": "stream",
     "text": [
      "Minimum ride length in Jun: 0 seconds (0.0 minutes)\n"
     ]
    }
   ],
   "source": [
    "minimum = jun_df['ride_length_seconds'].min()\n",
    "minimum_ride_minutes_jun = minimum/60\n",
    "print(f\"Minimum ride length in Jun: {minimum} seconds ({minimum_ride_minutes_jun} minutes)\")"
   ]
  },
  {
   "cell_type": "markdown",
   "id": "13da84ad",
   "metadata": {},
   "source": [
    "July Summary"
   ]
  },
  {
   "cell_type": "code",
   "execution_count": 51,
   "id": "6524ec6c",
   "metadata": {},
   "outputs": [
    {
     "data": {
      "text/plain": [
       "ride_id          748962\n",
       "rideable_type         2\n",
       "member_casual         2\n",
       "dtype: int64"
      ]
     },
     "execution_count": 51,
     "metadata": {},
     "output_type": "execute_result"
    }
   ],
   "source": [
    "jul_df[['ride_id', 'rideable_type','member_casual']].nunique()\n"
   ]
  },
  {
   "cell_type": "code",
   "execution_count": 52,
   "id": "9e145323",
   "metadata": {},
   "outputs": [
    {
     "name": "stdout",
     "output_type": "stream",
     "text": [
      "Number of members: 428416\n",
      "Number of casual riders: 320546\n"
     ]
    }
   ],
   "source": [
    "members_count_jul = len(jul_df[jul_df['member_casual']=='member'])\n",
    "casual_count_jul = jul_df[jul_df['member_casual']=='casual'].shape[0]\n",
    "print(f\"Number of members: {members_count_jul}\")\n",
    "print(f\"Number of casual riders: {casual_count_jul}\")"
   ]
  },
  {
   "cell_type": "code",
   "execution_count": 53,
   "id": "dec01212",
   "metadata": {},
   "outputs": [
    {
     "name": "stdout",
     "output_type": "stream",
     "text": [
      "Mean ride length for members in Jul: 984.680 seconds (16.411 minutes)\n",
      "Mean ride length for casual users in Jul: 1099.128 seconds (18.319 minutes)\n",
      "Overall mean ride length in Jul: 1033.662 seconds (17.228 minutes)\n"
     ]
    }
   ],
   "source": [
    "# Convert 'ride_length' from datetime.time to total duration in seconds\n",
    "jul_df['ride_length_seconds'] = jul_df['ride_length'].apply(lambda x: x.hour * 3600 + x.minute * 60 + x.second)\n",
    "mean_ride_length_seconds_overall = jul_df['ride_length_seconds'].mean()\n",
    "mean_ride_length_minutes_overall_jul = mean_ride_length_seconds_overall / 60\n",
    "\n",
    "members_df = jul_df[jul_df['member_casual']=='member']\n",
    "casual_df = jul_df[jul_df['member_casual']=='casual']\n",
    "\n",
    "mean_ride_length_seconds_members = members_df['ride_length_seconds'].mean()\n",
    "mean_ride_length_minutes_members_jul = mean_ride_length_seconds_members / 60\n",
    "\n",
    "mean_ride_length_seconds_casual = casual_df['ride_length_seconds'].mean()\n",
    "mean_ride_length_minutes_casual_jul = mean_ride_length_seconds_casual / 60\n",
    "\n",
    "\n",
    "print(f\"Mean ride length for members in Jul: {mean_ride_length_seconds_members:.3f} seconds ({mean_ride_length_minutes_members_jul:.3f} minutes)\")\n",
    "print(f\"Mean ride length for casual users in Jul: {mean_ride_length_seconds_casual:.3f} seconds ({mean_ride_length_minutes_casual_jul:.3f} minutes)\")\n",
    "print(f\"Overall mean ride length in Jul: {mean_ride_length_seconds_overall:.3f} seconds ({mean_ride_length_minutes_overall_jul:.3f} minutes)\")\n"
   ]
  },
  {
   "cell_type": "code",
   "execution_count": 54,
   "id": "46765c40",
   "metadata": {},
   "outputs": [
    {
     "data": {
      "text/plain": [
       "count    748962.000000\n",
       "mean       1033.662084\n",
       "std         885.648820\n",
       "min           0.000000\n",
       "25%         375.000000\n",
       "50%         699.000000\n",
       "75%        1450.000000\n",
       "max        3594.000000\n",
       "Name: ride_length_seconds, dtype: float64"
      ]
     },
     "execution_count": 54,
     "metadata": {},
     "output_type": "execute_result"
    }
   ],
   "source": [
    "jul_df['ride_length_seconds'].describe()"
   ]
  },
  {
   "cell_type": "code",
   "execution_count": 55,
   "id": "87081172",
   "metadata": {},
   "outputs": [
    {
     "name": "stdout",
     "output_type": "stream",
     "text": [
      "Maximum ride length in Jul:3594 seconds (59.9 minutes)\n"
     ]
    }
   ],
   "source": [
    "maximum = jul_df['ride_length_seconds'].max()\n",
    "maximum_ride_minutes_jul = maximum/60\n",
    "print(f\"Maximum ride length in Jul:{maximum} seconds ({maximum_ride_minutes_jul} minutes)\")"
   ]
  },
  {
   "cell_type": "code",
   "execution_count": 56,
   "id": "09c3a1cd",
   "metadata": {},
   "outputs": [
    {
     "name": "stdout",
     "output_type": "stream",
     "text": [
      "Minimum ride length in Jul: 0 seconds (0.0 minutes)\n"
     ]
    }
   ],
   "source": [
    "minimum = jul_df['ride_length_seconds'].min()\n",
    "minimum_ride_minutes_jul = minimum/60\n",
    "print(f\"Minimum ride length in Jul: {minimum} seconds ({minimum_ride_minutes_jul} minutes)\")"
   ]
  },
  {
   "cell_type": "markdown",
   "id": "0d329a90",
   "metadata": {},
   "source": [
    "August Summary"
   ]
  },
  {
   "cell_type": "code",
   "execution_count": 57,
   "id": "5638960a",
   "metadata": {},
   "outputs": [
    {
     "data": {
      "text/plain": [
       "ride_id          755639\n",
       "rideable_type         2\n",
       "member_casual         2\n",
       "dtype: int64"
      ]
     },
     "execution_count": 57,
     "metadata": {},
     "output_type": "execute_result"
    }
   ],
   "source": [
    "aug_df[['ride_id', 'rideable_type','member_casual']].nunique()\n"
   ]
  },
  {
   "cell_type": "code",
   "execution_count": 58,
   "id": "06744bf9",
   "metadata": {},
   "outputs": [
    {
     "name": "stdout",
     "output_type": "stream",
     "text": [
      "Number of members: 437359\n",
      "Number of casual riders: 318280\n"
     ]
    }
   ],
   "source": [
    "members_count_aug = len(aug_df[aug_df['member_casual']=='member'])\n",
    "casual_count_aug = aug_df[aug_df['member_casual']=='casual'].shape[0]\n",
    "print(f\"Number of members: {members_count_aug}\")\n",
    "print(f\"Number of casual riders: {casual_count_aug}\")"
   ]
  },
  {
   "cell_type": "code",
   "execution_count": 59,
   "id": "074c35fc",
   "metadata": {},
   "outputs": [
    {
     "name": "stdout",
     "output_type": "stream",
     "text": [
      "Mean ride length for members in Aug: 970.574 seconds (16.176 minutes)\n",
      "Mean ride length for casual users in Aug: 1085.000 seconds (18.083 minutes)\n",
      "Overall mean ride length in Aug: 1018.771 seconds (16.980 minutes)\n"
     ]
    }
   ],
   "source": [
    "# Convert 'ride_length' from datetime.time to total duration in seconds\n",
    "aug_df['ride_length_seconds'] = aug_df['ride_length'].apply(lambda x: x.hour * 3600 + x.minute * 60 + x.second)\n",
    "mean_ride_length_seconds_overall = aug_df['ride_length_seconds'].mean()\n",
    "mean_ride_length_minutes_overall_aug = mean_ride_length_seconds_overall / 60\n",
    "\n",
    "members_df = aug_df[aug_df['member_casual']=='member']\n",
    "casual_df = aug_df[aug_df['member_casual']=='casual']\n",
    "\n",
    "mean_ride_length_seconds_members = members_df['ride_length_seconds'].mean()\n",
    "mean_ride_length_minutes_members_aug = mean_ride_length_seconds_members / 60\n",
    "\n",
    "mean_ride_length_seconds_casual = casual_df['ride_length_seconds'].mean()\n",
    "mean_ride_length_minutes_casual_aug = mean_ride_length_seconds_casual / 60\n",
    "\n",
    "\n",
    "print(f\"Mean ride length for members in Aug: {mean_ride_length_seconds_members:.3f} seconds ({mean_ride_length_minutes_members_aug:.3f} minutes)\")\n",
    "print(f\"Mean ride length for casual users in Aug: {mean_ride_length_seconds_casual:.3f} seconds ({mean_ride_length_minutes_casual_aug:.3f} minutes)\")\n",
    "print(f\"Overall mean ride length in Aug: {mean_ride_length_seconds_overall:.3f} seconds ({mean_ride_length_minutes_overall_aug:.3f} minutes)\")\n"
   ]
  },
  {
   "cell_type": "code",
   "execution_count": 60,
   "id": "cee723e7",
   "metadata": {},
   "outputs": [
    {
     "data": {
      "text/plain": [
       "count    755639.000000\n",
       "mean       1018.771176\n",
       "std         886.486749\n",
       "min           0.000000\n",
       "25%         366.000000\n",
       "50%         679.000000\n",
       "75%        1410.000000\n",
       "max        3597.000000\n",
       "Name: ride_length_seconds, dtype: float64"
      ]
     },
     "execution_count": 60,
     "metadata": {},
     "output_type": "execute_result"
    }
   ],
   "source": [
    "aug_df['ride_length_seconds'].describe()"
   ]
  },
  {
   "cell_type": "code",
   "execution_count": 61,
   "id": "b0551b2a",
   "metadata": {},
   "outputs": [
    {
     "name": "stdout",
     "output_type": "stream",
     "text": [
      "Maximum ride length in Aug:3597 seconds (59.95 minutes)\n"
     ]
    }
   ],
   "source": [
    "maximum = aug_df['ride_length_seconds'].max()\n",
    "maximum_ride_minutes_aug = maximum/60\n",
    "print(f\"Maximum ride length in Aug:{maximum} seconds ({maximum_ride_minutes_aug} minutes)\")"
   ]
  },
  {
   "cell_type": "code",
   "execution_count": 62,
   "id": "39639b8e",
   "metadata": {},
   "outputs": [
    {
     "name": "stdout",
     "output_type": "stream",
     "text": [
      "Minimum ride length in Aug: 0 seconds (0.0 minutes)\n"
     ]
    }
   ],
   "source": [
    "minimum = aug_df['ride_length_seconds'].min()\n",
    "minimum_ride_minutes_aug = minimum/60\n",
    "print(f\"Minimum ride length in Aug: {minimum} seconds ({minimum_ride_minutes_aug} minutes)\")"
   ]
  },
  {
   "cell_type": "markdown",
   "id": "e4f7e6c6",
   "metadata": {},
   "source": [
    "September Summary"
   ]
  },
  {
   "cell_type": "code",
   "execution_count": 63,
   "id": "891a7cac",
   "metadata": {},
   "outputs": [
    {
     "data": {
      "text/plain": [
       "ride_id          821275\n",
       "rideable_type         3\n",
       "member_casual         2\n",
       "dtype: int64"
      ]
     },
     "execution_count": 63,
     "metadata": {},
     "output_type": "execute_result"
    }
   ],
   "source": [
    "sept_df[['ride_id', 'rideable_type','member_casual']].nunique()\n"
   ]
  },
  {
   "cell_type": "code",
   "execution_count": 64,
   "id": "4d7e7951",
   "metadata": {},
   "outputs": [
    {
     "name": "stdout",
     "output_type": "stream",
     "text": [
      "Number of members: 474472\n",
      "Number of casual riders: 346804\n"
     ]
    }
   ],
   "source": [
    "members_count_sept = len(sept_df[sept_df['member_casual']=='member'])\n",
    "casual_count_sept = sept_df[sept_df['member_casual']=='casual'].shape[0]\n",
    "print(f\"Number of members: {members_count_sept}\")\n",
    "print(f\"Number of casual riders: {casual_count_sept}\")"
   ]
  },
  {
   "cell_type": "code",
   "execution_count": 65,
   "id": "4cd9a22e",
   "metadata": {},
   "outputs": [
    {
     "name": "stdout",
     "output_type": "stream",
     "text": [
      "Mean ride length for members in Sept: 934.311 seconds (15.572 minutes)\n",
      "Mean ride length for casual users in Sept: 1027.981 seconds (17.133 minutes)\n",
      "Overall mean ride length in Sept: 973.866 seconds (16.231 minutes)\n"
     ]
    }
   ],
   "source": [
    "# Convert 'ride_length' from datetime.time to total duration in seconds\n",
    "sept_df['ride_length_seconds'] = sept_df['ride_length'].apply(lambda x: x.hour * 3600 + x.minute * 60 + x.second)\n",
    "mean_ride_length_seconds_overall = sept_df['ride_length_seconds'].mean()\n",
    "mean_ride_length_minutes_overall_sept = mean_ride_length_seconds_overall / 60\n",
    "\n",
    "members_df = sept_df[sept_df['member_casual']=='member']\n",
    "casual_df = sept_df[sept_df['member_casual']=='casual']\n",
    "\n",
    "mean_ride_length_seconds_members = members_df['ride_length_seconds'].mean()\n",
    "mean_ride_length_minutes_members_sept = mean_ride_length_seconds_members / 60\n",
    "\n",
    "mean_ride_length_seconds_casual = casual_df['ride_length_seconds'].mean()\n",
    "mean_ride_length_minutes_casual_sept = mean_ride_length_seconds_casual / 60\n",
    "\n",
    "\n",
    "print(f\"Mean ride length for members in Sept: {mean_ride_length_seconds_members:.3f} seconds ({mean_ride_length_minutes_members_sept:.3f} minutes)\")\n",
    "print(f\"Mean ride length for casual users in Sept: {mean_ride_length_seconds_casual:.3f} seconds ({mean_ride_length_minutes_casual_sept:.3f} minutes)\")\n",
    "print(f\"Overall mean ride length in Sept: {mean_ride_length_seconds_overall:.3f} seconds ({mean_ride_length_minutes_overall_sept:.3f} minutes)\")\n"
   ]
  },
  {
   "cell_type": "code",
   "execution_count": 66,
   "id": "ce5e2951",
   "metadata": {},
   "outputs": [
    {
     "data": {
      "text/plain": [
       "count    821276.000000\n",
       "mean        973.865797\n",
       "std         897.056850\n",
       "min           0.000000\n",
       "25%         334.000000\n",
       "50%         614.000000\n",
       "75%        1295.000000\n",
       "max        3594.000000\n",
       "Name: ride_length_seconds, dtype: float64"
      ]
     },
     "execution_count": 66,
     "metadata": {},
     "output_type": "execute_result"
    }
   ],
   "source": [
    "sept_df['ride_length_seconds'].describe()"
   ]
  },
  {
   "cell_type": "code",
   "execution_count": 67,
   "id": "ec831d43",
   "metadata": {},
   "outputs": [
    {
     "name": "stdout",
     "output_type": "stream",
     "text": [
      "Maximum ride length in Sept:3594 seconds (59.9 minutes)\n"
     ]
    }
   ],
   "source": [
    "maximum = sept_df['ride_length_seconds'].max()\n",
    "maximum_ride_minutes_sept = maximum/60\n",
    "print(f\"Maximum ride length in Sept:{maximum} seconds ({maximum_ride_minutes_sept} minutes)\")"
   ]
  },
  {
   "cell_type": "code",
   "execution_count": 68,
   "id": "3605e9a5",
   "metadata": {},
   "outputs": [
    {
     "name": "stdout",
     "output_type": "stream",
     "text": [
      "Minimum ride length in Sept: 0 seconds (0.0 minutes)\n"
     ]
    }
   ],
   "source": [
    "minimum = sept_df['ride_length_seconds'].min()\n",
    "minimum_ride_minutes_sept = minimum/60\n",
    "print(f\"Minimum ride length in Sept: {minimum} seconds ({minimum_ride_minutes_sept} minutes)\")"
   ]
  },
  {
   "cell_type": "markdown",
   "id": "1e886961",
   "metadata": {},
   "source": [
    "October Summary"
   ]
  },
  {
   "cell_type": "code",
   "execution_count": 69,
   "id": "dc2cc6b5",
   "metadata": {},
   "outputs": [
    {
     "data": {
      "text/plain": [
       "ride_id          616281\n",
       "rideable_type         2\n",
       "member_casual         2\n",
       "dtype: int64"
      ]
     },
     "execution_count": 69,
     "metadata": {},
     "output_type": "execute_result"
    }
   ],
   "source": [
    "oct_df[['ride_id', 'rideable_type','member_casual']].nunique()\n"
   ]
  },
  {
   "cell_type": "code",
   "execution_count": 70,
   "id": "ff9fdcb4",
   "metadata": {},
   "outputs": [
    {
     "name": "stdout",
     "output_type": "stream",
     "text": [
      "Number of members: 399835\n",
      "Number of casual riders: 216446\n"
     ]
    }
   ],
   "source": [
    "members_count_oct = len(oct_df[oct_df['member_casual']=='member'])\n",
    "casual_count_oct = oct_df[oct_df['member_casual']=='casual'].shape[0]\n",
    "print(f\"Number of members: {members_count_oct}\")\n",
    "print(f\"Number of casual riders: {casual_count_oct}\")"
   ]
  },
  {
   "cell_type": "code",
   "execution_count": 71,
   "id": "e0129f31",
   "metadata": {},
   "outputs": [
    {
     "name": "stdout",
     "output_type": "stream",
     "text": [
      "Mean ride length for members in Oct: 919.714 seconds (15.329 minutes)\n",
      "Mean ride length for casual users in Oct: 1032.020 seconds (17.200 minutes)\n",
      "Overall mean ride length in Oct: 959.157 seconds (15.986 minutes)\n"
     ]
    }
   ],
   "source": [
    "# Convert 'ride_length' from datetime.time to total duration in seconds\n",
    "oct_df['ride_length_seconds'] = oct_df['ride_length'].apply(lambda x: x.hour * 3600 + x.minute * 60 + x.second)\n",
    "mean_ride_length_seconds_overall = oct_df['ride_length_seconds'].mean()\n",
    "mean_ride_length_minutes_overall_oct = mean_ride_length_seconds_overall / 60\n",
    "\n",
    "members_df = oct_df[oct_df['member_casual']=='member']\n",
    "casual_df = oct_df[oct_df['member_casual']=='casual']\n",
    "\n",
    "mean_ride_length_seconds_members = members_df['ride_length_seconds'].mean()\n",
    "mean_ride_length_minutes_members_oct = mean_ride_length_seconds_members / 60\n",
    "\n",
    "mean_ride_length_seconds_casual = casual_df['ride_length_seconds'].mean()\n",
    "mean_ride_length_minutes_casual_oct = mean_ride_length_seconds_casual / 60\n",
    "\n",
    "\n",
    "print(f\"Mean ride length for members in Oct: {mean_ride_length_seconds_members:.3f} seconds ({mean_ride_length_minutes_members_oct:.3f} minutes)\")\n",
    "print(f\"Mean ride length for casual users in Oct: {mean_ride_length_seconds_casual:.3f} seconds ({mean_ride_length_minutes_casual_oct:.3f} minutes)\")\n",
    "print(f\"Overall mean ride length in Oct: {mean_ride_length_seconds_overall:.3f} seconds ({mean_ride_length_minutes_overall_oct:.3f} minutes)\")\n"
   ]
  },
  {
   "cell_type": "code",
   "execution_count": 72,
   "id": "e355fb4e",
   "metadata": {},
   "outputs": [
    {
     "data": {
      "text/plain": [
       "count    616281.000000\n",
       "mean        959.157487\n",
       "std         897.880393\n",
       "min           0.000000\n",
       "25%         326.000000\n",
       "50%         593.000000\n",
       "75%        1252.000000\n",
       "max        3598.000000\n",
       "Name: ride_length_seconds, dtype: float64"
      ]
     },
     "execution_count": 72,
     "metadata": {},
     "output_type": "execute_result"
    }
   ],
   "source": [
    "oct_df['ride_length_seconds'].describe()"
   ]
  },
  {
   "cell_type": "code",
   "execution_count": 73,
   "id": "ecb5b764",
   "metadata": {},
   "outputs": [
    {
     "name": "stdout",
     "output_type": "stream",
     "text": [
      "Maximum ride length in Oct:3598 seconds (59.96666666666667 minutes)\n"
     ]
    }
   ],
   "source": [
    "maximum = oct_df['ride_length_seconds'].max()\n",
    "maximum_ride_minutes_oct = maximum/60\n",
    "print(f\"Maximum ride length in Oct:{maximum} seconds ({maximum_ride_minutes_oct} minutes)\")"
   ]
  },
  {
   "cell_type": "code",
   "execution_count": 74,
   "id": "00c51234",
   "metadata": {},
   "outputs": [
    {
     "name": "stdout",
     "output_type": "stream",
     "text": [
      "Minimum ride length in Oct: 0 seconds (0.0 minutes)\n"
     ]
    }
   ],
   "source": [
    "minimum = oct_df['ride_length_seconds'].min()\n",
    "minimum_ride_minutes_oct = minimum/60\n",
    "print(f\"Minimum ride length in Oct: {minimum} seconds ({minimum_ride_minutes_oct} minutes)\")"
   ]
  },
  {
   "cell_type": "markdown",
   "id": "f438dc35",
   "metadata": {},
   "source": [
    "November Summary"
   ]
  },
  {
   "cell_type": "code",
   "execution_count": 75,
   "id": "015afedf",
   "metadata": {},
   "outputs": [
    {
     "data": {
      "text/plain": [
       "ride_id          335075\n",
       "rideable_type         2\n",
       "member_casual         2\n",
       "dtype: int64"
      ]
     },
     "execution_count": 75,
     "metadata": {},
     "output_type": "execute_result"
    }
   ],
   "source": [
    "nov_df[['ride_id', 'rideable_type','member_casual']].nunique()\n"
   ]
  },
  {
   "cell_type": "code",
   "execution_count": 76,
   "id": "d6527777",
   "metadata": {},
   "outputs": [
    {
     "name": "stdout",
     "output_type": "stream",
     "text": [
      "Number of members: 241997\n",
      "Number of casual riders: 93078\n"
     ]
    }
   ],
   "source": [
    "members_count_nov = len(nov_df[nov_df['member_casual']=='member'])\n",
    "casual_count_nov = nov_df[nov_df['member_casual']=='casual'].shape[0]\n",
    "print(f\"Number of members: {members_count_nov}\")\n",
    "print(f\"Number of casual riders: {casual_count_nov}\")"
   ]
  },
  {
   "cell_type": "code",
   "execution_count": 77,
   "id": "75d774b4",
   "metadata": {},
   "outputs": [
    {
     "name": "stdout",
     "output_type": "stream",
     "text": [
      "Mean ride length for members in Nov: 870.217 seconds (14.504 minutes)\n",
      "Mean ride length for casual users in Nov: 948.957 seconds (15.816 minutes)\n",
      "Overall mean ride length in Nov: 892.090 seconds (14.868 minutes)\n"
     ]
    }
   ],
   "source": [
    "# Convert 'ride_length' from datetime.time to total duration in seconds\n",
    "nov_df['ride_length_seconds'] = nov_df['ride_length'].apply(lambda x: x.hour * 3600 + x.minute * 60 + x.second)\n",
    "mean_ride_length_seconds_overall = nov_df['ride_length_seconds'].mean()\n",
    "mean_ride_length_minutes_overall_nov = mean_ride_length_seconds_overall / 60\n",
    "\n",
    "members_df = nov_df[nov_df['member_casual']=='member']\n",
    "casual_df = nov_df[nov_df['member_casual']=='casual']\n",
    "\n",
    "mean_ride_length_seconds_members = members_df['ride_length_seconds'].mean()\n",
    "mean_ride_length_minutes_members_nov = mean_ride_length_seconds_members / 60\n",
    "\n",
    "mean_ride_length_seconds_casual = casual_df['ride_length_seconds'].mean()\n",
    "mean_ride_length_minutes_casual_nov = mean_ride_length_seconds_casual / 60\n",
    "\n",
    "\n",
    "print(f\"Mean ride length for members in Nov: {mean_ride_length_seconds_members:.3f} seconds ({mean_ride_length_minutes_members_nov:.3f} minutes)\")\n",
    "print(f\"Mean ride length for casual users in Nov: {mean_ride_length_seconds_casual:.3f} seconds ({mean_ride_length_minutes_casual_nov:.3f} minutes)\")\n",
    "print(f\"Overall mean ride length in Nov: {mean_ride_length_seconds_overall:.3f} seconds ({mean_ride_length_minutes_overall_nov:.3f} minutes)\")\n"
   ]
  },
  {
   "cell_type": "code",
   "execution_count": 78,
   "id": "741462ea",
   "metadata": {},
   "outputs": [
    {
     "data": {
      "text/plain": [
       "count    335075.000000\n",
       "mean        892.090007\n",
       "std         900.930323\n",
       "min           0.000000\n",
       "25%         293.000000\n",
       "50%         516.000000\n",
       "75%        1061.000000\n",
       "max        3594.000000\n",
       "Name: ride_length_seconds, dtype: float64"
      ]
     },
     "execution_count": 78,
     "metadata": {},
     "output_type": "execute_result"
    }
   ],
   "source": [
    "nov_df['ride_length_seconds'].describe()"
   ]
  },
  {
   "cell_type": "code",
   "execution_count": 79,
   "id": "74fd1032",
   "metadata": {},
   "outputs": [
    {
     "name": "stdout",
     "output_type": "stream",
     "text": [
      "Maximum ride length in Nov:3594 seconds (59.9 minutes)\n"
     ]
    }
   ],
   "source": [
    "maximum = nov_df['ride_length_seconds'].max()\n",
    "maximum_ride_minutes_nov = maximum/60\n",
    "print(f\"Maximum ride length in Nov:{maximum} seconds ({maximum_ride_minutes_nov} minutes)\")"
   ]
  },
  {
   "cell_type": "code",
   "execution_count": 80,
   "id": "6f61bdde",
   "metadata": {},
   "outputs": [
    {
     "name": "stdout",
     "output_type": "stream",
     "text": [
      "Minimum ride length in Nov: 0 seconds (0.0 minutes)\n"
     ]
    }
   ],
   "source": [
    "minimum = nov_df['ride_length_seconds'].min()\n",
    "minimum_ride_minutes_nov = minimum/60\n",
    "print(f\"Minimum ride length in Nov: {minimum} seconds ({minimum_ride_minutes_nov} minutes)\")"
   ]
  },
  {
   "cell_type": "markdown",
   "id": "2f30b8cc",
   "metadata": {},
   "source": [
    "Summary for entire data"
   ]
  },
  {
   "cell_type": "code",
   "execution_count": 81,
   "id": "9fe63c11",
   "metadata": {},
   "outputs": [
    {
     "name": "stdout",
     "output_type": "stream",
     "text": [
      "Summary file created successfully!\n"
     ]
    }
   ],
   "source": [
    "summary_data = [\n",
    "    {\n",
    "        \"Month\": \"January\",\n",
    "        \"Members Count\": members_count_jan,\n",
    "        \"Casual Count\": casual_count_jan,\n",
    "        \"Mean Ride Length (Minutes) - Overall\": mean_ride_length_minutes_overall_jan,\n",
    "        \"Mean Ride Length (Minutes) - Members\": mean_ride_length_minutes_members_jan,\n",
    "        \"Mean Ride Length (Minutes) - Casual\": mean_ride_length_minutes_casual_jan,\n",
    "        \"Max Ride Length (Minutes)\": maximum_ride_minutes_jan,\n",
    "        \"Min Ride Length (Minutes)\": minimum_ride_minutes_jan,\n",
    "    },\n",
    "    {\n",
    "        \"Month\": \"February\",\n",
    "        \"Members Count\": members_count_feb,\n",
    "        \"Casual Count\": casual_count_feb,\n",
    "        \"Mean Ride Length (Minutes) - Overall\": mean_ride_length_minutes_overall_feb,\n",
    "        \"Mean Ride Length (Minutes) - Members\": mean_ride_length_minutes_members_feb,\n",
    "        \"Mean Ride Length (Minutes) - Casual\": mean_ride_length_minutes_casual_feb,\n",
    "        \"Max Ride Length (Minutes)\": maximum_ride_minutes_feb,\n",
    "        \"Min Ride Length (Minutes)\": minimum_ride_minutes_feb,\n",
    "    },\n",
    "    {\n",
    "        \"Month\": \"March\",\n",
    "        \"Members Count\": members_count_mar,\n",
    "        \"Casual Count\": casual_count_mar,\n",
    "        \"Mean Ride Length (Minutes) - Overall\": mean_ride_length_minutes_overall_mar,\n",
    "        \"Mean Ride Length (Minutes) - Members\": mean_ride_length_minutes_members_mar,\n",
    "        \"Mean Ride Length (Minutes) - Casual\": mean_ride_length_minutes_casual_mar,\n",
    "        \"Max Ride Length (Minutes)\": maximum_ride_minutes_mar,\n",
    "        \"Min Ride Length (Minutes)\": minimum_ride_minutes_mar,\n",
    "    },\n",
    "    {\n",
    "        \"Month\": \"April\",\n",
    "        \"Members Count\": members_count_apr,\n",
    "        \"Casual Count\": casual_count_apr,\n",
    "        \"Mean Ride Length (Minutes) - Overall\": mean_ride_length_minutes_overall_apr,\n",
    "        \"Mean Ride Length (Minutes) - Members\": mean_ride_length_minutes_members_apr,\n",
    "        \"Mean Ride Length (Minutes) - Casual\": mean_ride_length_minutes_casual_apr,\n",
    "        \"Max Ride Length (Minutes)\": maximum_ride_minutes_apr,\n",
    "        \"Min Ride Length (Minutes)\": minimum_ride_minutes_apr,\n",
    "    },\n",
    "    {\n",
    "        \"Month\": \"May\",\n",
    "        \"Members Count\": members_count_may,\n",
    "        \"Casual Count\": casual_count_may,\n",
    "        \"Mean Ride Length (Minutes) - Overall\": mean_ride_length_minutes_overall_may,\n",
    "        \"Mean Ride Length (Minutes) - Members\": mean_ride_length_minutes_members_may,\n",
    "        \"Mean Ride Length (Minutes) - Casual\": mean_ride_length_minutes_casual_may,\n",
    "        \"Max Ride Length (Minutes)\": maximum_ride_minutes_may,\n",
    "        \"Min Ride Length (Minutes)\": minimum_ride_minutes_may,\n",
    "    },\n",
    "    {\n",
    "        \"Month\": \"June\",\n",
    "        \"Members Count\": members_count_jun,\n",
    "        \"Casual Count\": casual_count_jun,\n",
    "        \"Mean Ride Length (Minutes) - Overall\": mean_ride_length_minutes_overall_jun,\n",
    "        \"Mean Ride Length (Minutes) - Members\": mean_ride_length_minutes_members_jun,\n",
    "        \"Mean Ride Length (Minutes) - Casual\": mean_ride_length_minutes_casual_jun,\n",
    "        \"Max Ride Length (Minutes)\": maximum_ride_minutes_jun,\n",
    "        \"Min Ride Length (Minutes)\": minimum_ride_minutes_jun,\n",
    "    },\n",
    "    {\n",
    "        \"Month\": \"July\",\n",
    "        \"Members Count\": members_count_jul,\n",
    "        \"Casual Count\": casual_count_jul,\n",
    "        \"Mean Ride Length (Minutes) - Overall\": mean_ride_length_minutes_overall_jul,\n",
    "        \"Mean Ride Length (Minutes) - Members\": mean_ride_length_minutes_members_jul,\n",
    "        \"Mean Ride Length (Minutes) - Casual\": mean_ride_length_minutes_casual_jul,\n",
    "        \"Max Ride Length (Minutes)\": maximum_ride_minutes_jul,\n",
    "        \"Min Ride Length (Minutes)\": minimum_ride_minutes_jul,\n",
    "    },\n",
    "    {\n",
    "        \"Month\": \"August\",\n",
    "        \"Members Count\": members_count_aug,\n",
    "        \"Casual Count\": casual_count_aug,\n",
    "        \"Mean Ride Length (Minutes) - Overall\": mean_ride_length_minutes_overall_aug,\n",
    "        \"Mean Ride Length (Minutes) - Members\": mean_ride_length_minutes_members_aug,\n",
    "        \"Mean Ride Length (Minutes) - Casual\": mean_ride_length_minutes_casual_aug,\n",
    "        \"Max Ride Length (Minutes)\": maximum_ride_minutes_aug,\n",
    "        \"Min Ride Length (Minutes)\": minimum_ride_minutes_aug,\n",
    "    },\n",
    "    {\n",
    "        \"Month\": \"September\",\n",
    "        \"Members Count\": members_count_jul,\n",
    "        \"Casual Count\": casual_count_jul,\n",
    "        \"Mean Ride Length (Minutes) - Overall\": mean_ride_length_minutes_overall_jul,\n",
    "        \"Mean Ride Length (Minutes) - Members\": mean_ride_length_minutes_members_jul,\n",
    "        \"Mean Ride Length (Minutes) - Casual\": mean_ride_length_minutes_casual_jul,\n",
    "        \"Max Ride Length (Minutes)\": maximum_ride_minutes_jul,\n",
    "        \"Min Ride Length (Minutes)\": minimum_ride_minutes_jul,\n",
    "    },\n",
    "    {\n",
    "        \"Month\": \"October\",\n",
    "        \"Members Count\": members_count_oct,\n",
    "        \"Casual Count\": casual_count_oct,\n",
    "        \"Mean Ride Length (Minutes) - Overall\": mean_ride_length_minutes_overall_oct,\n",
    "        \"Mean Ride Length (Minutes) - Members\": mean_ride_length_minutes_members_oct,\n",
    "        \"Mean Ride Length (Minutes) - Casual\": mean_ride_length_minutes_casual_oct,\n",
    "        \"Max Ride Length (Minutes)\": maximum_ride_minutes_oct,\n",
    "        \"Min Ride Length (Minutes)\": minimum_ride_minutes_oct,\n",
    "    },\n",
    "    {\n",
    "        \"Month\": \"November\",\n",
    "        \"Members Count\": members_count_nov,\n",
    "        \"Casual Count\": casual_count_nov,\n",
    "        \"Mean Ride Length (Minutes) - Overall\": mean_ride_length_minutes_overall_nov,\n",
    "        \"Mean Ride Length (Minutes) - Members\": mean_ride_length_minutes_members_nov,\n",
    "        \"Mean Ride Length (Minutes) - Casual\": mean_ride_length_minutes_casual_nov,\n",
    "        \"Max Ride Length (Minutes)\": maximum_ride_minutes_nov,\n",
    "        \"Min Ride Length (Minutes)\": minimum_ride_minutes_nov,\n",
    "    }\n",
    "    # Add other months similarly...\n",
    "]\n",
    "\n",
    "# Convert list to DataFrame\n",
    "summary_df = pd.DataFrame(summary_data)\n",
    "\n",
    "# Save to CSV\n",
    "summary_df.to_csv(\"cycle_case_summary.csv\", index=False)\n",
    "\n",
    "# Save to Excel\n",
    "summary_df.to_excel(\"cycle_case_summary.xlsx\", index=False)\n",
    "\n",
    "print(\"Summary file created successfully!\")\n"
   ]
  },
  {
   "cell_type": "code",
   "execution_count": 82,
   "id": "da9b5289",
   "metadata": {},
   "outputs": [
    {
     "data": {
      "text/html": [
       "<div>\n",
       "<style scoped>\n",
       "    .dataframe tbody tr th:only-of-type {\n",
       "        vertical-align: middle;\n",
       "    }\n",
       "\n",
       "    .dataframe tbody tr th {\n",
       "        vertical-align: top;\n",
       "    }\n",
       "\n",
       "    .dataframe thead th {\n",
       "        text-align: right;\n",
       "    }\n",
       "</style>\n",
       "<table border=\"1\" class=\"dataframe\">\n",
       "  <thead>\n",
       "    <tr style=\"text-align: right;\">\n",
       "      <th></th>\n",
       "      <th>Month</th>\n",
       "      <th>Members Count</th>\n",
       "      <th>Casual Count</th>\n",
       "      <th>Mean Ride Length (Minutes) - Overall</th>\n",
       "      <th>Mean Ride Length (Minutes) - Members</th>\n",
       "      <th>Mean Ride Length (Minutes) - Casual</th>\n",
       "      <th>Max Ride Length (Minutes)</th>\n",
       "      <th>Min Ride Length (Minutes)</th>\n",
       "    </tr>\n",
       "  </thead>\n",
       "  <tbody>\n",
       "    <tr>\n",
       "      <th>0</th>\n",
       "      <td>January</td>\n",
       "      <td>120413</td>\n",
       "      <td>24460</td>\n",
       "      <td>13.705363</td>\n",
       "      <td>12.962296</td>\n",
       "      <td>17.363369</td>\n",
       "      <td>1439.0</td>\n",
       "      <td>0.0</td>\n",
       "    </tr>\n",
       "    <tr>\n",
       "      <th>1</th>\n",
       "      <td>February</td>\n",
       "      <td>176001</td>\n",
       "      <td>47163</td>\n",
       "      <td>15.015437</td>\n",
       "      <td>13.206681</td>\n",
       "      <td>21.765282</td>\n",
       "      <td>1439.0</td>\n",
       "      <td>0.0</td>\n",
       "    </tr>\n",
       "    <tr>\n",
       "      <th>2</th>\n",
       "      <td>March</td>\n",
       "      <td>219137</td>\n",
       "      <td>82550</td>\n",
       "      <td>16.847471</td>\n",
       "      <td>13.713878</td>\n",
       "      <td>25.165899</td>\n",
       "      <td>1439.0</td>\n",
       "      <td>0.0</td>\n",
       "    </tr>\n",
       "    <tr>\n",
       "      <th>3</th>\n",
       "      <td>April</td>\n",
       "      <td>283215</td>\n",
       "      <td>131810</td>\n",
       "      <td>18.207691</td>\n",
       "      <td>14.262825</td>\n",
       "      <td>26.683871</td>\n",
       "      <td>1439.0</td>\n",
       "      <td>0.0</td>\n",
       "    </tr>\n",
       "    <tr>\n",
       "      <th>4</th>\n",
       "      <td>May</td>\n",
       "      <td>378475</td>\n",
       "      <td>231018</td>\n",
       "      <td>21.421980</td>\n",
       "      <td>16.132180</td>\n",
       "      <td>30.088218</td>\n",
       "      <td>1439.0</td>\n",
       "      <td>0.0</td>\n",
       "    </tr>\n",
       "  </tbody>\n",
       "</table>\n",
       "</div>"
      ],
      "text/plain": [
       "      Month  Members Count  Casual Count  \\\n",
       "0   January         120413         24460   \n",
       "1  February         176001         47163   \n",
       "2     March         219137         82550   \n",
       "3     April         283215        131810   \n",
       "4       May         378475        231018   \n",
       "\n",
       "   Mean Ride Length (Minutes) - Overall  Mean Ride Length (Minutes) - Members  \\\n",
       "0                             13.705363                             12.962296   \n",
       "1                             15.015437                             13.206681   \n",
       "2                             16.847471                             13.713878   \n",
       "3                             18.207691                             14.262825   \n",
       "4                             21.421980                             16.132180   \n",
       "\n",
       "   Mean Ride Length (Minutes) - Casual  Max Ride Length (Minutes)  \\\n",
       "0                            17.363369                     1439.0   \n",
       "1                            21.765282                     1439.0   \n",
       "2                            25.165899                     1439.0   \n",
       "3                            26.683871                     1439.0   \n",
       "4                            30.088218                     1439.0   \n",
       "\n",
       "   Min Ride Length (Minutes)  \n",
       "0                        0.0  \n",
       "1                        0.0  \n",
       "2                        0.0  \n",
       "3                        0.0  \n",
       "4                        0.0  "
      ]
     },
     "execution_count": 82,
     "metadata": {},
     "output_type": "execute_result"
    }
   ],
   "source": [
    "data = pd.read_csv(\"cycle_case_summary.csv\")\n",
    "data.head(5)"
   ]
  },
  {
   "cell_type": "code",
   "execution_count": 83,
   "id": "c06bd6ef",
   "metadata": {},
   "outputs": [
    {
     "data": {
      "image/png": "[encoded data removed]",
      "text/plain": [
       "<Figure size 1000x500 with 1 Axes>"
      ]
     },
     "metadata": {},
     "output_type": "display_data"
    }
   ],
   "source": [
    "months = [ \"January\",\"February\",\"March\",\"April\",\"May\",\"June\",\"July\",\"August\",\"September\",\"October\",\"November\"]  # Add other months\n",
    "members_counts = [ members_count_jan, members_count_feb, members_count_mar, members_count_apr, members_count_may, members_count_jun, members_count_jul, members_count_aug, members_count_sept, members_count_oct,members_count_nov,]  # Replace with actual values\n",
    "casual_counts = [ casual_count_jan,casual_count_feb,casual_count_mar,casual_count_apr,casual_count_may,casual_count_jun,casual_count_jul,casual_count_aug,casual_count_sept,casual_count_oct,casual_count_nov,]  # Replace with actual values\n",
    "\n",
    "plt.figure(figsize=(10, 5))\n",
    "x = range(len(months))\n",
    "plt.bar(x, members_counts, width=0.4, label=\"Members\", color=\"blue\", align=\"center\")\n",
    "plt.bar(x, casual_counts, width=0.4, label=\"Casual Riders\", color=\"orange\", align=\"edge\")\n",
    "\n",
    "# Labels and Title\n",
    "plt.xlabel(\"Month\")\n",
    "plt.ylabel(\"Count\")\n",
    "plt.title(\"Members vs Casual Riders per Month\")\n",
    "plt.xticks(x, months)\n",
    "plt.legend()\n",
    "plt.show()\n"
   ]
  },
  {
   "cell_type": "code",
   "execution_count": 84,
   "id": "a634183d",
   "metadata": {},
   "outputs": [
    {
     "data": {
      "image/png": "[encoded data removed]",
      "text/plain": [
       "<Figure size 1000x500 with 1 Axes>"
      ]
     },
     "metadata": {},
     "output_type": "display_data"
    }
   ],
   "source": [
    "# Mean ride length for each month (replace with actual values)\n",
    "mean_overall = [mean_ride_length_minutes_overall_jan, mean_ride_length_minutes_overall_feb, \n",
    "                mean_ride_length_minutes_overall_mar, mean_ride_length_minutes_overall_apr, \n",
    "                mean_ride_length_minutes_overall_may, mean_ride_length_minutes_overall_jun, \n",
    "                mean_ride_length_minutes_overall_jul, mean_ride_length_minutes_overall_aug, \n",
    "                mean_ride_length_minutes_overall_sept, mean_ride_length_minutes_overall_oct, \n",
    "                mean_ride_length_minutes_overall_nov]\n",
    "\n",
    "mean_members = [mean_ride_length_minutes_members_jan, mean_ride_length_minutes_members_feb, \n",
    "                mean_ride_length_minutes_members_mar, mean_ride_length_minutes_members_apr, \n",
    "                mean_ride_length_minutes_members_may, mean_ride_length_minutes_members_jun, \n",
    "                mean_ride_length_minutes_members_jul, mean_ride_length_minutes_members_aug, \n",
    "                mean_ride_length_minutes_members_sept, mean_ride_length_minutes_members_oct, \n",
    "                mean_ride_length_minutes_members_nov]\n",
    "\n",
    "mean_casual = [mean_ride_length_minutes_casual_jan, mean_ride_length_minutes_casual_feb, \n",
    "               mean_ride_length_minutes_casual_mar, mean_ride_length_minutes_casual_apr, \n",
    "               mean_ride_length_minutes_casual_may, mean_ride_length_minutes_casual_jun, \n",
    "               mean_ride_length_minutes_casual_jul, mean_ride_length_minutes_casual_aug, \n",
    "               mean_ride_length_minutes_casual_sept, mean_ride_length_minutes_casual_oct, \n",
    "               mean_ride_length_minutes_casual_nov]\n",
    "\n",
    "plt.figure(figsize=(10, 5))\n",
    "plt.plot(months, mean_overall, marker='o', linestyle='-', label=\"Overall\", color='black')\n",
    "plt.plot(months, mean_members, marker='s', linestyle='--', label=\"Members\", color='blue')\n",
    "plt.plot(months, mean_casual, marker='^', linestyle='-.', label=\"Casual Riders\", color='orange')\n",
    "\n",
    "plt.xlabel(\"Month\")\n",
    "plt.ylabel(\"Mean Ride Length (Minutes)\")\n",
    "plt.title(\"Trend of Mean Ride Length Over the Year\")\n",
    "plt.legend()\n",
    "plt.grid(True)\n",
    "plt.xticks(rotation=45)\n",
    "plt.show()\n"
   ]
  },
  {
   "cell_type": "markdown",
   "id": "8d6eadc1",
   "metadata": {},
   "source": [
    "Graph Type\tInsight Provided\n",
    "Bar Chart\tNumber of members vs casual users per month\n",
    "Line Chart\tTrends in ride duration over the year\n",
    "Box Plot\tRide duration variations (outliers and spread)"
   ]
  },
  {
   "cell_type": "code",
   "execution_count": 96,
   "id": "1519f669",
   "metadata": {},
   "outputs": [
    {
     "data": {
      "image/png": "[encoded data removed]",
      "text/plain": [
       "<Figure size 1200x600 with 1 Axes>"
      ]
     },
     "metadata": {},
     "output_type": "display_data"
    }
   ],
   "source": [
    "import seaborn as sns\n",
    "\n",
    "# Combine data from all months\n",
    "ride_lengths = {\n",
    "    \"Month\": ([\"January\"] * len(jan_df) + [\"February\"] * len(feb_df) + [\"March\"] * len(mar_df) +\n",
    "              [\"April\"] * len(apr_df) + [\"May\"] * len(may_df) + [\"June\"] * len(jun_df) +\n",
    "              [\"July\"] * len(jul_df) + [\"August\"] * len(aug_df) + [\"September\"] * len(sept_df) +\n",
    "              [\"October\"] * len(oct_df) + [\"November\"] * len(nov_df)),\n",
    "\n",
    "    \"Ride Length (Minutes)\": pd.concat([jan_df['ride_length_seconds'] / 60, feb_df['ride_length_seconds'] / 60,\n",
    "                                        mar_df['ride_length_seconds'] / 60, apr_df['ride_length_seconds'] / 60,\n",
    "                                        may_df['ride_length_seconds'] / 60, jun_df['ride_length_seconds'] / 60,\n",
    "                                        jul_df['ride_length_seconds'] / 60, aug_df['ride_length_seconds'] / 60,\n",
    "                                        sept_df['ride_length_seconds'] / 60, oct_df['ride_length_seconds'] / 60,\n",
    "                                        nov_df['ride_length_seconds'] / 60]),\n",
    "    \n",
    "    \"User Type\": pd.concat([jan_df['member_casual'], feb_df['member_casual'], mar_df['member_casual'],\n",
    "                            apr_df['member_casual'], may_df['member_casual'], jun_df['member_casual'],\n",
    "                            jul_df['member_casual'], aug_df['member_casual'], sept_df['member_casual'],\n",
    "                            oct_df['member_casual'], nov_df['member_casual']])\n",
    "}\n",
    "\n",
    "ride_df = pd.DataFrame(ride_lengths)\n",
    "\n",
    "# Filter dataset to remove extreme ride lengths > 500 minutes\n",
    "df_filtered = ride_df[ride_df['Ride Length (Minutes)'] <= 500]\n",
    "\n",
    "# Set figure size\n",
    "plt.figure(figsize=(12, 6))\n",
    "\n",
    "# Use a pastel color palette for better contrast\n",
    "sns.boxplot(data=df_filtered, x=\"Month\", y=\"Ride Length (Minutes)\", hue=\"User Type\", palette=\"pastel\")\n",
    "\n",
    "# Improve readability\n",
    "plt.xticks(rotation=45)  \n",
    "plt.xlabel(\"Month\")\n",
    "plt.ylabel(\"Ride Length (Minutes)\")\n",
    "plt.title(\"Box Plot of Ride Length by Month (Capped at 500 mins)\")\n",
    "\n",
    "# Move legend outside the plot for clarity\n",
    "plt.legend(title=\"User Type\", bbox_to_anchor=(1.05, 1), loc='upper left')\n",
    "\n",
    "plt.grid(True)\n",
    "plt.show()\n"
   ]
  },
  {
   "cell_type": "code",
   "execution_count": 86,
   "id": "2565b1e3-358e-4035-b6be-82f288b70eef",
   "metadata": {},
   "outputs": [
    {
     "data": {
      "image/png": "[encoded data removed]",
      "text/plain": [
       "<Figure size 640x480 with 1 Axes>"
      ]
     },
     "metadata": {},
     "output_type": "display_data"
    }
   ],
   "source": [
    "labels = [\"Members\", \"Casual Riders\"]\n",
    "sizes = [sum(members_counts), sum(casual_counts)]\n",
    "colors = [\"blue\", \"orange\"]\n",
    "\n",
    "plt.pie(sizes, labels=labels, colors=colors, autopct='%1.1f%%', startangle=90, wedgeprops={\"edgecolor\": \"black\"})\n",
    "plt.title(\"Proportion of Members vs Casual Riders\")\n",
    "plt.show()\n"
   ]
  },
  {
   "cell_type": "code",
   "execution_count": 100,
   "id": "78b09079-27dd-4920-b74b-517a80fc2266",
   "metadata": {},
   "outputs": [
    {
     "name": "stderr",
     "output_type": "stream",
     "text": [
      "C:\\Users\\diyas\\AppData\\Local\\Temp\\ipykernel_14060\\2217139463.py:8: UserWarning: No artists with labels found to put in legend.  Note that artists whose label start with an underscore are ignored when legend() is called with no argument.\n",
      "  plt.legend(title=\"User Type\")\n"
     ]
    },
    {
     "data": {
      "image/png": "[encoded data removed]",
      "text/plain": [
       "<Figure size 1000x600 with 1 Axes>"
      ]
     },
     "metadata": {},
     "output_type": "display_data"
    }
   ],
   "source": [
    "# KDE PLOT\n",
    "plt.figure(figsize=(10, 6))\n",
    "sns.kdeplot(data=df, x=\"ride_length_seconds\", hue=\"member_casual\", fill=True, common_norm=False,palette={\"member\": \"green\", \"casual\": \"red\"})\n",
    "plt.xlim(0, 500)  # Adjust to remove extreme outliers\n",
    "plt.xlabel(\"Ride Length (Seconds)\")\n",
    "plt.ylabel(\"Density\")\n",
    "plt.title(\"KDE Plot of Ride Length Distribution (Members vs Casual)\")\n",
    "plt.legend(title=\"User Type\")\n",
    "plt.show()\n"
   ]
  },
  {
   "cell_type": "markdown",
   "id": "ae0ad689-dc2f-4042-9b4e-a3f0866549ab",
   "metadata": {},
   "source": [
    "Observations:\n"
   ]
  },
  {
   "cell_type": "markdown",
   "id": "d2820831-44cf-49b8-91df-c928ddff1f2e",
   "metadata": {},
   "source": [
    "Bar graph shows number of members vs casual users per month.\n",
    "Number of members was greater than number of casual riders for every month. Casual riders showed an increase in number from January to September then decreased. Members as well showed an increase in number from January to September then decreased.\n",
    "\n",
    "Line chart shows trends in ride duration over the year.\n",
    "Linea chart shows the mean ride length of members,casual riders and both. This chart shows that mean ride length of members is less than casual riders. The mean ride length of casual riders saw a growth from january to may and suddnly decreased but was still greater than mean ride length of members.\n",
    "This shows that members use the bicycle as their daily ride either going to work(office) or college on daily basis.\n",
    "\n",
    "Box plot shows ride duration variations (outliers and spread).\n",
    "Box plot shows many outliers giving a skewed vizualization depicting that the first few months have a high concentration of long ride times (>1400 minutes).Many outliers suggest some rides lasted unusually long due to paused rides.\n",
    "\n",
    "Pie chart shows the percentage distribution of members vs casual riders.\n",
    "This chart shows that there are 62.8% members and 37.2% casual riders in total for entire year.\n",
    "\n",
    "KDE plot shows ride length distribution in seconds."
   ]
  },
  {
   "cell_type": "markdown",
   "id": "bdcf3826-ce3d-4569-b820-66ee75c327cb",
   "metadata": {},
   "source": [
    "Conclusion:"
   ]
  },
  {
   "cell_type": "markdown",
   "id": "ce51b103-9151-409e-93ab-b02e8854f0e6",
   "metadata": {},
   "source": [
    "The slow increase from January is seen as it is winter from January to March and from March to September its autumn and spring which explains the increase in use of clystic bikes.\n",
    "\n",
    "1. Annual members and casual riders use Cyclistic bikes differently:\n",
    "The bar graph shows that members consistently out number casual riders each month.\n",
    "The line chart indicates that casual riders tend to have longer average ride durations compared to members, suggesting that casual users might use bikes for leisure or exploration, while members likely use them for daily commutes.\n",
    "The box plot shows that casual riders have more extreme ride durations (outliers), possibly due to paused rides or different usage patterns.\n",
    "The pie chart confirms that members (62.8%) form the majority of users, reinforcing that the service is primarily used by regular commuters.\n",
    "The KDE plot further highlights that casual riders tend to have longer ride times compared to members.\n",
    "\n",
    "3. Story my data tells:\n",
    "Cyclistic bikes are predominantly used by members who take shorter and more consistent trips—likely for daily commutes.\n",
    "Casual riders have longer and more varied ride durations, likely using the service for leisure rather than routine transport.\n",
    "Both groups showed an increase in ridership from January to September, suggesting a seasonal effect where bike usage peaks in warmer months and declines afterward.\n",
    "The presence of many extreme ride durations (outliers) suggests that some casual users may pause their rides instead of ending them properly.\n",
    "\n",
    "\n",
    "5. My findings related to original question \"How do Annual members and casual riders use Cyclistic bikes differently?\":\n",
    "The findings confirm that members and casual riders use Cyclistic bikes differently—members use them for short, consistent commutes, while casual riders take longer rides, likely for recreational purposes.\n",
    "The seasonal trend in ridership also aligns with expected biking behavior (higher usage in warmer months , lower in colder months).\n",
    "The discrepancy in ride duration suggests that Cyclistic could further optimize pricing or features for each group.\n",
    "\n",
    "\n",
    "7. My audience and best way to communicate with them:\n",
    "Audience: Cyclistic’s marketing and operations team, city planners, and policymakers.\n",
    "Best communication method:\n",
    "Graphs & visual storytelling—Using bar charts, line charts, and pie charts for clear trend visualization.\n",
    "Concise summaries—Highlighting key takeaways (e.g., casual riders take longer trips, members are the majority).\n",
    "Actionable insights—Providing recommendations based on the findings.\n",
    "\n",
    "\n",
    "9. Final conclusion based on my analysis:\n",
    "Members are the backbone of Cyclistic’s user base, using bikes for daily commutes with shorter ride durations.\n",
    "Casual riders tend to take longer rides and show more seasonal variation in their usage.\n",
    "There’s a need for targeted strategies:\n",
    "Encouraging casual riders to become members through promotional offers.\n",
    "Addressing ride duration outliers (e.g., educating users on proper ride-ending procedures).\n",
    "Optimizing pricing structures based on ride durations and seasonal trends.\n",
    "\n",
    "\n",
    "11. Use insights to:\n",
    "Marketing strategy: Create promotional plans to convert casual riders into members.\n",
    "Operational improvements: Improve ride-ending processes to reduce excessive ride durations.\n",
    "Seasonal campaigns: Launch summer promotions to attract more casual riders when demand is high.\n",
    "\n",
    "\n",
    "13. Next steps based on my findings:\n",
    "Analyze outliers in ride durations to determine if adjustments in pricing or policies are needed.\n",
    "Investigate why casual riders take longer rides—Is it due to route preferences, pricing models, or lack of membership incentives?\n",
    "Enhance membership benefits to attract more long-term users.\n",
    "Consider city-wide collaborations to promote biking as a daily transport alternative.\n",
    "\n",
    "14. Many other things like user_id, start_date and end_date, subscription pricing and price for 1 ride can be added into dataset of all months to analyze and get more better insights."
   ]
  },
  {
   "cell_type": "code",
   "execution_count": null,
   "id": "4afb7a57-7ea1-4de0-8a5c-147f86b40d7d",
   "metadata": {},
   "outputs": [],
   "source": []
  }
 ],
 "metadata": {
  "kernelspec": {
   "display_name": "Python 3 (ipykernel)",
   "language": "python",
   "name": "python3"
  },
  "language_info": {
   "codemirror_mode": {
    "name": "ipython",
    "version": 3
   },
   "file_extension": ".py",
   "mimetype": "text/x-python",
   "name": "python",
   "nbconvert_exporter": "python",
   "pygments_lexer": "ipython3",
   "version": "3.12.0"
  }
 },
 "nbformat": 4,
 "nbformat_minor": 5
}
