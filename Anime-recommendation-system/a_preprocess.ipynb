{
 "cells": [
  {
   "cell_type": "code",
   "execution_count": 2,
   "id": "3b397f25-0c5c-4d02-bc54-79a996fc8639",
   "metadata": {},
   "outputs": [],
   "source": [
    "import pandas as pd\n",
    "from scipy.stats import ttest_rel,probplot\n",
    "import numpy as np\n",
    "from matplotlib import pyplot as plt\n",
    "import seaborn as sns\n",
    "from sklearn.model_selection import train_test_split\n",
    "from wordcloud import WordCloud\n",
    "#import math\n",
    "#import copy as cp\n",
    "#from collections import defaultdict\n",
    "\n",
    "\n",
    "#from surprise\n",
    "from surprise import KNNWithMeans,SVD,SVDpp,NMF,SlopeOne,CoClustering\n",
    "from surprise import Reader, Dataset,accuracy\n",
    "from surprise.model_selection import cross_validate, KFold, ShuffleSplit, GridSearchCV\n",
    "from surprise.prediction_algorithms import PredictionImpossible\n",
    "from surprise.model_selection import train_test_split as surprisesplit\n",
    "from surprise import dump\n",
    "\n",
    "#user defined functions\n",
    "#from prec_recall import precision_recall_at_k,pr_eval\n",
    "#from sigweight import KNNSigWeighting\n",
    "#from Rank import *\n",
    "#from data_cleaning import *\n",
    "#from hybrid import WeightedHybrid"
   ]
  },
  {
   "cell_type": "code",
   "execution_count": 3,
   "id": "08de4fc7-7834-412c-9c3b-40b133ad22ad",
   "metadata": {},
   "outputs": [],
   "source": [
    "df_rating = pd.read_csv(r'archive (2)\\rating.csv')\n",
    "df_anime = pd.read_csv(r'archive (2)\\anime.csv')"
   ]
  },
  {
   "cell_type": "code",
   "execution_count": 4,
   "id": "8634cda4-ab8e-429e-925f-33ac0ee79d1e",
   "metadata": {},
   "outputs": [],
   "source": [
    "#drop rows with no rating (-1)\n",
    "mask = df_rating['rating']!=-1\n",
    "df_rating = df_rating[mask]"
   ]
  },
  {
   "cell_type": "code",
   "execution_count": 5,
   "id": "059ad209-a8b9-46a9-ac85-159cd89bddcc",
   "metadata": {},
   "outputs": [
    {
     "data": {
      "text/html": [
       "<div>\n",
       "<style scoped>\n",
       "    .dataframe tbody tr th:only-of-type {\n",
       "        vertical-align: middle;\n",
       "    }\n",
       "\n",
       "    .dataframe tbody tr th {\n",
       "        vertical-align: top;\n",
       "    }\n",
       "\n",
       "    .dataframe thead th {\n",
       "        text-align: right;\n",
       "    }\n",
       "</style>\n",
       "<table border=\"1\" class=\"dataframe\">\n",
       "  <thead>\n",
       "    <tr style=\"text-align: right;\">\n",
       "      <th></th>\n",
       "      <th>anime_id</th>\n",
       "      <th>name</th>\n",
       "      <th>genre</th>\n",
       "      <th>type</th>\n",
       "      <th>episodes</th>\n",
       "      <th>rating</th>\n",
       "      <th>members</th>\n",
       "    </tr>\n",
       "  </thead>\n",
       "  <tbody>\n",
       "    <tr>\n",
       "      <th>0</th>\n",
       "      <td>32281</td>\n",
       "      <td>Kimi no Na wa.</td>\n",
       "      <td>Drama, Romance, School, Supernatural</td>\n",
       "      <td>Movie</td>\n",
       "      <td>1</td>\n",
       "      <td>9.37</td>\n",
       "      <td>200630</td>\n",
       "    </tr>\n",
       "    <tr>\n",
       "      <th>1</th>\n",
       "      <td>5114</td>\n",
       "      <td>Fullmetal Alchemist: Brotherhood</td>\n",
       "      <td>Action, Adventure, Drama, Fantasy, Magic, Mili...</td>\n",
       "      <td>TV</td>\n",
       "      <td>64</td>\n",
       "      <td>9.26</td>\n",
       "      <td>793665</td>\n",
       "    </tr>\n",
       "    <tr>\n",
       "      <th>2</th>\n",
       "      <td>28977</td>\n",
       "      <td>Gintama°</td>\n",
       "      <td>Action, Comedy, Historical, Parody, Samurai, S...</td>\n",
       "      <td>TV</td>\n",
       "      <td>51</td>\n",
       "      <td>9.25</td>\n",
       "      <td>114262</td>\n",
       "    </tr>\n",
       "    <tr>\n",
       "      <th>3</th>\n",
       "      <td>9253</td>\n",
       "      <td>Steins;Gate</td>\n",
       "      <td>Sci-Fi, Thriller</td>\n",
       "      <td>TV</td>\n",
       "      <td>24</td>\n",
       "      <td>9.17</td>\n",
       "      <td>673572</td>\n",
       "    </tr>\n",
       "    <tr>\n",
       "      <th>4</th>\n",
       "      <td>9969</td>\n",
       "      <td>Gintama&amp;#039;</td>\n",
       "      <td>Action, Comedy, Historical, Parody, Samurai, S...</td>\n",
       "      <td>TV</td>\n",
       "      <td>51</td>\n",
       "      <td>9.16</td>\n",
       "      <td>151266</td>\n",
       "    </tr>\n",
       "    <tr>\n",
       "      <th>...</th>\n",
       "      <td>...</td>\n",
       "      <td>...</td>\n",
       "      <td>...</td>\n",
       "      <td>...</td>\n",
       "      <td>...</td>\n",
       "      <td>...</td>\n",
       "      <td>...</td>\n",
       "    </tr>\n",
       "    <tr>\n",
       "      <th>12289</th>\n",
       "      <td>9316</td>\n",
       "      <td>Toushindai My Lover: Minami tai Mecha-Minami</td>\n",
       "      <td>Hentai</td>\n",
       "      <td>OVA</td>\n",
       "      <td>1</td>\n",
       "      <td>4.15</td>\n",
       "      <td>211</td>\n",
       "    </tr>\n",
       "    <tr>\n",
       "      <th>12290</th>\n",
       "      <td>5543</td>\n",
       "      <td>Under World</td>\n",
       "      <td>Hentai</td>\n",
       "      <td>OVA</td>\n",
       "      <td>1</td>\n",
       "      <td>4.28</td>\n",
       "      <td>183</td>\n",
       "    </tr>\n",
       "    <tr>\n",
       "      <th>12291</th>\n",
       "      <td>5621</td>\n",
       "      <td>Violence Gekiga David no Hoshi</td>\n",
       "      <td>Hentai</td>\n",
       "      <td>OVA</td>\n",
       "      <td>4</td>\n",
       "      <td>4.88</td>\n",
       "      <td>219</td>\n",
       "    </tr>\n",
       "    <tr>\n",
       "      <th>12292</th>\n",
       "      <td>6133</td>\n",
       "      <td>Violence Gekiga Shin David no Hoshi: Inma Dens...</td>\n",
       "      <td>Hentai</td>\n",
       "      <td>OVA</td>\n",
       "      <td>1</td>\n",
       "      <td>4.98</td>\n",
       "      <td>175</td>\n",
       "    </tr>\n",
       "    <tr>\n",
       "      <th>12293</th>\n",
       "      <td>26081</td>\n",
       "      <td>Yasuji no Pornorama: Yacchimae!!</td>\n",
       "      <td>Hentai</td>\n",
       "      <td>Movie</td>\n",
       "      <td>1</td>\n",
       "      <td>5.46</td>\n",
       "      <td>142</td>\n",
       "    </tr>\n",
       "  </tbody>\n",
       "</table>\n",
       "<p>12294 rows × 7 columns</p>\n",
       "</div>"
      ],
      "text/plain": [
       "       anime_id                                               name  \\\n",
       "0         32281                                     Kimi no Na wa.   \n",
       "1          5114                   Fullmetal Alchemist: Brotherhood   \n",
       "2         28977                                           Gintama°   \n",
       "3          9253                                        Steins;Gate   \n",
       "4          9969                                      Gintama&#039;   \n",
       "...         ...                                                ...   \n",
       "12289      9316       Toushindai My Lover: Minami tai Mecha-Minami   \n",
       "12290      5543                                        Under World   \n",
       "12291      5621                     Violence Gekiga David no Hoshi   \n",
       "12292      6133  Violence Gekiga Shin David no Hoshi: Inma Dens...   \n",
       "12293     26081                   Yasuji no Pornorama: Yacchimae!!   \n",
       "\n",
       "                                                   genre   type episodes  \\\n",
       "0                   Drama, Romance, School, Supernatural  Movie        1   \n",
       "1      Action, Adventure, Drama, Fantasy, Magic, Mili...     TV       64   \n",
       "2      Action, Comedy, Historical, Parody, Samurai, S...     TV       51   \n",
       "3                                       Sci-Fi, Thriller     TV       24   \n",
       "4      Action, Comedy, Historical, Parody, Samurai, S...     TV       51   \n",
       "...                                                  ...    ...      ...   \n",
       "12289                                             Hentai    OVA        1   \n",
       "12290                                             Hentai    OVA        1   \n",
       "12291                                             Hentai    OVA        4   \n",
       "12292                                             Hentai    OVA        1   \n",
       "12293                                             Hentai  Movie        1   \n",
       "\n",
       "       rating  members  \n",
       "0        9.37   200630  \n",
       "1        9.26   793665  \n",
       "2        9.25   114262  \n",
       "3        9.17   673572  \n",
       "4        9.16   151266  \n",
       "...       ...      ...  \n",
       "12289    4.15      211  \n",
       "12290    4.28      183  \n",
       "12291    4.88      219  \n",
       "12292    4.98      175  \n",
       "12293    5.46      142  \n",
       "\n",
       "[12294 rows x 7 columns]"
      ]
     },
     "execution_count": 5,
     "metadata": {},
     "output_type": "execute_result"
    }
   ],
   "source": [
    "df_anime"
   ]
  },
  {
   "cell_type": "code",
   "execution_count": 6,
   "id": "25c155a8-38e1-47be-9bb0-1158843f2797",
   "metadata": {},
   "outputs": [],
   "source": [
    "from data_cleaning import *"
   ]
  },
  {
   "cell_type": "code",
   "execution_count": 7,
   "id": "8660da8f-afee-4dfd-8b9c-86befc7cee3a",
   "metadata": {},
   "outputs": [
    {
     "name": "stdout",
     "output_type": "stream",
     "text": [
      "## Iteration 1 ##\n",
      "There are one-scale raters!\n",
      "one_Scale_rater_eliminator excuted\n",
      "\n",
      "\n",
      "There are some user or item (if not None) has less than 10 ratings!\n",
      "core_operator excuted!\n",
      "\n",
      "\n",
      "======================================================================\n",
      "## Iteration 2 ##\n",
      "No one scale Rater!\n",
      "\n",
      "\n",
      "No item & user has less than 10 ratinngs!\n",
      "\n",
      "\n",
      "======================================================================\n",
      "Data is cleaned!\n"
     ]
    }
   ],
   "source": [
    "#10-Core Operation & One-Scale Rater Elimination on Anime_rating using clean_data()\n",
    "core = data_cleaner(df_rating)"
   ]
  },
  {
   "cell_type": "code",
   "execution_count": 8,
   "id": "49015ec6-b465-453a-8791-a7cef817f4ee",
   "metadata": {},
   "outputs": [],
   "source": [
    "core.to_csv('core_rating.csv',index=False)"
   ]
  },
  {
   "cell_type": "code",
   "execution_count": 9,
   "id": "8a40c453-58c5-4a6a-b1d9-3ed36d34dd84",
   "metadata": {},
   "outputs": [
    {
     "name": "stdout",
     "output_type": "stream",
     "text": [
      "Number of operations 6247010\n",
      "Number of unique users: 54743\n",
      "Number of unique animes: 7359\n",
      "Number of unique ratings: 10\n",
      "*rating scales: [ 1  2  3  4  5  6  7  8  9 10]\n"
     ]
    },
    {
     "name": "stderr",
     "output_type": "stream",
     "text": [
      "C:\\Users\\diyas\\AppData\\Local\\Temp\\ipykernel_21708\\3568393601.py:8: FutureWarning: Series.__getitem__ treating keys as positions is deprecated. In a future version, integer keys will always be treated as labels (consistent with DataFrame behavior). To access a value by position, use `ser.iloc[pos]`\n",
      "  print(f'Density: {len(core)/(core.nunique()[0]*core.nunique().iloc[1])}')\n"
     ]
    },
    {
     "name": "stdout",
     "output_type": "stream",
     "text": [
      "Density: 0.015506893510584463\n"
     ]
    },
    {
     "data": {
      "text/html": [
       "<div>\n",
       "<style scoped>\n",
       "    .dataframe tbody tr th:only-of-type {\n",
       "        vertical-align: middle;\n",
       "    }\n",
       "\n",
       "    .dataframe tbody tr th {\n",
       "        vertical-align: top;\n",
       "    }\n",
       "\n",
       "    .dataframe thead th {\n",
       "        text-align: right;\n",
       "    }\n",
       "</style>\n",
       "<table border=\"1\" class=\"dataframe\">\n",
       "  <thead>\n",
       "    <tr style=\"text-align: right;\">\n",
       "      <th></th>\n",
       "      <th>user_id</th>\n",
       "      <th>anime_id</th>\n",
       "      <th>rating</th>\n",
       "    </tr>\n",
       "  </thead>\n",
       "  <tbody>\n",
       "    <tr>\n",
       "      <th>156</th>\n",
       "      <td>3</td>\n",
       "      <td>20</td>\n",
       "      <td>8</td>\n",
       "    </tr>\n",
       "    <tr>\n",
       "      <th>157</th>\n",
       "      <td>3</td>\n",
       "      <td>154</td>\n",
       "      <td>6</td>\n",
       "    </tr>\n",
       "    <tr>\n",
       "      <th>158</th>\n",
       "      <td>3</td>\n",
       "      <td>170</td>\n",
       "      <td>9</td>\n",
       "    </tr>\n",
       "    <tr>\n",
       "      <th>159</th>\n",
       "      <td>3</td>\n",
       "      <td>199</td>\n",
       "      <td>10</td>\n",
       "    </tr>\n",
       "    <tr>\n",
       "      <th>160</th>\n",
       "      <td>3</td>\n",
       "      <td>225</td>\n",
       "      <td>9</td>\n",
       "    </tr>\n",
       "  </tbody>\n",
       "</table>\n",
       "</div>"
      ],
      "text/plain": [
       "     user_id  anime_id  rating\n",
       "156        3        20       8\n",
       "157        3       154       6\n",
       "158        3       170       9\n",
       "159        3       199      10\n",
       "160        3       225       9"
      ]
     },
     "execution_count": 9,
     "metadata": {},
     "output_type": "execute_result"
    }
   ],
   "source": [
    "print(f\"Number of operations {len(core)}\")\n",
    "\n",
    "for i in core.nunique().index:\n",
    "    print(f\"Number of unique {i.split('_')[0]}s: {core.nunique()[i]}\")\n",
    "\n",
    "print(f'*rating scales: {np.sort(core['rating'].unique())}')\n",
    "\n",
    "print(f'Density: {len(core)/(core.nunique()[0]*core.nunique().iloc[1])}')\n",
    "\n",
    "core.head(5)\n"
   ]
  },
  {
   "cell_type": "code",
   "execution_count": 10,
   "id": "2ae01161-081e-45c8-a94a-184c4a678921",
   "metadata": {},
   "outputs": [
    {
     "name": "stdout",
     "output_type": "stream",
     "text": [
      "## Iteration 1 ##\n",
      "There are one-scale raters!\n",
      "one_Scale_rater_eliminator excuted\n",
      "\n",
      "\n",
      "There are some user or item (if not None) has less than 10 ratings!\n",
      "core_operator excuted!\n",
      "\n",
      "\n",
      "======================================================================\n",
      "## Iteration 2 ##\n",
      "No one scale Rater!\n",
      "\n",
      "\n",
      "There are some user or item (if not None) has less than 10 ratings!\n",
      "core_operator excuted!\n",
      "\n",
      "\n",
      "======================================================================\n",
      "## Iteration 3 ##\n",
      "No one scale Rater!\n",
      "\n",
      "\n",
      "No item & user has less than 10 ratinngs!\n",
      "\n",
      "\n",
      "======================================================================\n",
      "Data is cleaned!\n"
     ]
    }
   ],
   "source": [
    "#limit the experiment to tv comedy \n",
    "#limit user data to tv & comedy based only\n",
    "tv_comedy_anime= Anime_subset(df_anime,df_rating,'TV','Comedy')\n",
    "\n",
    "#perform eliminaton & core_operation\n",
    "tv_comedy_anime_core=data_cleaner(tv_comedy_anime)"
   ]
  },
  {
   "cell_type": "code",
   "execution_count": 11,
   "id": "3c0dd122-e88f-4f20-b6d4-a858f933db3a",
   "metadata": {},
   "outputs": [
    {
     "name": "stdout",
     "output_type": "stream",
     "text": [
      "<class 'pandas.core.frame.DataFrame'>\n",
      "Index: 1332908 entries, 304 to 7813734\n",
      "Data columns (total 3 columns):\n",
      " #   Column    Non-Null Count    Dtype\n",
      "---  ------    --------------    -----\n",
      " 0   user_id   1332908 non-null  int64\n",
      " 1   anime_id  1332908 non-null  int64\n",
      " 2   rating    1332908 non-null  int64\n",
      "dtypes: int64(3)\n",
      "memory usage: 40.7 MB\n"
     ]
    }
   ],
   "source": [
    "tv_comedy_anime_core.info()"
   ]
  },
  {
   "cell_type": "code",
   "execution_count": 12,
   "id": "4ea19509-f9b3-4dce-a66f-ac2c5a0472e4",
   "metadata": {},
   "outputs": [
    {
     "name": "stdout",
     "output_type": "stream",
     "text": [
      "Number of observations: 1332908 \n",
      "Number of Unique users: 32178\n",
      "Number of Unique animes: 798\n",
      "Number of Unique ratings: 10\n",
      "*rating scales: [ 1  2  3  4  5  6  7  8  9 10]\n",
      "Density: 0.05190847091001168\n",
      "     user_id  anime_id  rating\n",
      "304        5        17       6\n",
      "308        5        24       1\n",
      "312        5        57       7\n",
      "313        5        63       1\n",
      "324        5       170       6\n"
     ]
    },
    {
     "name": "stderr",
     "output_type": "stream",
     "text": [
      "C:\\Users\\diyas\\AppData\\Local\\Temp\\ipykernel_21708\\2184630286.py:10: FutureWarning: Series.__getitem__ treating keys as positions is deprecated. In a future version, integer keys will always be treated as labels (consistent with DataFrame behavior). To access a value by position, use `ser.iloc[pos]`\n",
      "  print(f'Density: {len(tv_comedy_anime_core)/(tv_comedy_anime_core.nunique()[0]*tv_comedy_anime_core.nunique().iloc[1])}')\n"
     ]
    }
   ],
   "source": [
    "## print summary of  tv & comedy based Anime Rating Data after cleaning ## \\n')\n",
    "print(f'Number of observations: {len(tv_comedy_anime_core)} ')\n",
    "\n",
    "\n",
    "for i in tv_comedy_anime_core.nunique().index:\n",
    "    print(f'Number of Unique {i.split('_')[0]}s: {tv_comedy_anime_core.nunique()[i]}')\n",
    "\n",
    "print(f'*rating scales: {np.sort(tv_comedy_anime_core['rating'].unique())}')\n",
    "\n",
    "print(f'Density: {len(tv_comedy_anime_core)/(tv_comedy_anime_core.nunique()[0]*tv_comedy_anime_core.nunique().iloc[1])}')\n",
    "\n",
    "print(tv_comedy_anime_core.head())\n"
   ]
  },
  {
   "cell_type": "code",
   "execution_count": 13,
   "id": "1a1b18ec-5023-47e0-a4a1-04ce0489c27f",
   "metadata": {},
   "outputs": [],
   "source": [
    "#write to csv\n",
    "tv_comedy_anime_core.to_csv('core_tv_comedy_rating.csv', index=False)"
   ]
  },
  {
   "cell_type": "code",
   "execution_count": 14,
   "id": "79ac373d-9346-49c1-becc-0f3893544eb4",
   "metadata": {},
   "outputs": [],
   "source": [
    "#splitting dataset into test and train sets using stratification\n",
    "final_data = pd.read_csv(r'core_tv_comedy_rating.csv')\n",
    "train,test = train_test_split(final_data,test_size=0.2,random_state=1,stratify=final_data['user_id'])\n",
    "\n",
    "#train and test csv files\n",
    "train.to_csv('train.csv', index=False)\n",
    "test.to_csv('test.csv', index=False)"
   ]
  },
  {
   "cell_type": "code",
   "execution_count": 16,
   "id": "33df44f5-2815-45f8-a551-fdd72f7862af",
   "metadata": {},
   "outputs": [],
   "source": [
    "#load final_data,train and test data into surprise objects\n",
    "reader = Reader(line_format = \"user item rating\",sep=',',rating_scale=(1,10),skip_lines=1)\n",
    "WholeSet = Dataset.load_from_file('core_tv_comedy_rating.csv', reader)\n",
    "S_train = Dataset.load_from_file('train.csv', reader)\n",
    "S_test = Dataset.load_from_file('test.csv', reader)"
   ]
  },
  {
   "cell_type": "code",
   "execution_count": 34,
   "id": "528a76d7-a1d3-4927-922b-95a6e0e38157",
   "metadata": {},
   "outputs": [],
   "source": [
    "#surprise train set\n",
    "trainset = S_train.build_full_trainset()\n",
    "WholeSet_train = WholeSet.build_full_trainset()"
   ]
  },
  {
   "cell_type": "code",
   "execution_count": 35,
   "id": "36bc5c96-2dae-4de5-8abc-4f9caaed8c86",
   "metadata": {},
   "outputs": [],
   "source": [
    "#surprise test set evaluating RMSE\n",
    "testset = list(map(lambda x : x[0:3],S_test.raw_ratings))"
   ]
  },
  {
   "cell_type": "code",
   "execution_count": 36,
   "id": "8d3ee119-23fb-46ed-9dcc-ca1e55fa9fb7",
   "metadata": {},
   "outputs": [],
   "source": [
    "# testset for evaluating relevence(Precision, Recall, NDCG)\n",
    "NoRatingSet = WholeSet_train.build_anti_testset(fill=1) #whole unknown rating\n",
    "\n",
    "_, noRate_test = train_test_split(NoRatingSet, test_size=0.2, random_state=1, stratify=list(map(lambda x: x[0], NoRatingSet)))\n",
    "\n",
    "testPlusUnknown=testset+noRate_test #testset + 20% of unknown rating for evaluating relevence"
   ]
  },
  {
   "cell_type": "code",
   "execution_count": 45,
   "id": "3ebe1698-94dd-4022-a951-adb0cb9ccb75",
   "metadata": {},
   "outputs": [],
   "source": [
    "#d_compare = pd.merge(df_rating,df_anime,on='anime_id',how='outer')\n",
    "#d_compare.to_csv(\"data_ccompare.csv\",index=False)"
   ]
  },
  {
   "cell_type": "code",
   "execution_count": 44,
   "id": "7de36c21-c786-44cd-82f3-798a73385d1c",
   "metadata": {},
   "outputs": [],
   "source": [
    "#print(data_ccompare.dtypes)\n"
   ]
  },
  {
   "cell_type": "code",
   "execution_count": 43,
   "id": "c9b78c05-eb0f-4eec-bd3a-bb1405ec482e",
   "metadata": {},
   "outputs": [],
   "source": [
    "#data_ccompare=pd.read_csv('data_ccompare.csv',index_col=0)\n",
    "#data_ccompare['episodes'] = pd.to_numeric(data_ccompare['episodes'], errors='coerce')\n",
    "\n",
    "#data_ccompare.style.highlight_min(data_ccompare.columns[:-1], axis=0).highlight_max(['Density'], axis=0)\n"
   ]
  },
  {
   "cell_type": "code",
   "execution_count": 46,
   "id": "2db3a7ca-28d2-4619-a866-e19af0106789",
   "metadata": {},
   "outputs": [
    {
     "name": "stdout",
     "output_type": "stream",
     "text": [
      "## Final form of Anime (Comedy & TV based) rating data ##\n",
      "\n",
      "Number of Observation: 1332908\n",
      "Number of Users: 32178\n",
      "Number of items: 798\n",
      "Density: 0.05190847091001168\n",
      "## Surprise trainset  object (80% of whole data) ##\n",
      "\n",
      "Object Type: <class 'surprise.trainset.Trainset'>\n",
      "Number of observations: 1066326\n",
      "Number of Users ( trainset.n_users ): 32178\n",
      "Number of items ( trainset.n_items ): 798\n",
      "## Holdeout Testset (20% of whole data) for evalauting Rating Prediction performance##\n",
      "\n",
      "Object Type: <class 'list'>\n",
      "Number of Observation: 266582\n",
      "Number of Users: 32178\n",
      "Number of items: 797\n"
     ]
    }
   ],
   "source": [
    "#summary of data that will be used in surprise\n",
    "\n",
    "print('## Final form of Anime (Comedy & TV based) rating data ##\\n')\n",
    "print(f'Number of Observation: {len(WholeSet.raw_ratings)}')\n",
    "print(f'Number of Users: {WholeSet_train.n_users}')\n",
    "print(f'Number of items: {WholeSet_train.n_items}')\n",
    "print(f'Density: {WholeSet_train.n_ratings/(WholeSet_train.n_users*WholeSet_train.n_items)}')\n",
    "\n",
    "\n",
    "print('## Surprise trainset  object (80% of whole data) ##\\n')\n",
    "print(f'Object Type: {type(trainset)}'.format())\n",
    "print(f'Number of observations: {len(S_train.raw_ratings)}')\n",
    "print(f'Number of Users ( trainset.n_users ): {trainset.n_users}')\n",
    "print(f'Number of items ( trainset.n_items ): {trainset.n_items}')\n",
    "\n",
    "print('## Holdeout Testset (20% of whole data) for evalauting Rating Prediction performance##\\n')\n",
    "\n",
    "print(f'Object Type: {type(testset)}'.format())\n",
    "print(f'Number of Observation: {len(S_test.raw_ratings)}')\n",
    "print(f'Number of Users: {len(np.unique(np.array(testset)[:,0],return_counts=True)[1])}')\n",
    "print(f'Number of items: {len(np.unique(np.array(testset)[:,1],return_counts=True)[1])}')"
   ]
  },
  {
   "cell_type": "code",
   "execution_count": null,
   "id": "12164524-8647-4544-8810-3da16a7ef585",
   "metadata": {},
   "outputs": [],
   "source": []
  }
 ],
 "metadata": {
  "kernelspec": {
   "display_name": "Python (anime_env)",
   "language": "python",
   "name": "anime_env"
  },
  "language_info": {
   "codemirror_mode": {
    "name": "ipython",
    "version": 3
   },
   "file_extension": ".py",
   "mimetype": "text/x-python",
   "name": "python",
   "nbconvert_exporter": "python",
   "pygments_lexer": "ipython3",
   "version": "3.12.0"
  }
 },
 "nbformat": 4,
 "nbformat_minor": 5
}
