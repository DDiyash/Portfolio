{
 "cells": [
  {
   "cell_type": "code",
   "execution_count": 2,
   "id": "b87e828b-04fa-4e1f-8818-0395610c5117",
   "metadata": {},
   "outputs": [],
   "source": [
    "#standard tools\n",
    "import pandas as pd\n",
    "from scipy.stats import ttest_rel,probplot\n",
    "import numpy as np\n",
    "from matplotlib import pyplot as plt\n",
    "import seaborn as sns\n",
    "from sklearn.model_selection import train_test_split\n",
    "from wordcloud import WordCloud\n",
    "import matplotlib.ticker \n",
    "sns.set_style('white')\n",
    "import time\n",
    "import datetime\n",
    "\n",
    "\n",
    "#from surprise\n",
    "from surprise import KNNWithMeans,SVD,SVDpp,NMF,SlopeOne,CoClustering\n",
    "from surprise import Reader, Dataset,accuracy\n",
    "from surprise.model_selection import cross_validate, KFold, ShuffleSplit, GridSearchCV\n",
    "from surprise.prediction_algorithms import PredictionImpossible\n",
    "from surprise.model_selection import train_test_split as surprisesplit\n",
    "from surprise import dump"
   ]
  },
  {
   "cell_type": "code",
   "execution_count": 3,
   "id": "f1344c18-9016-4f79-a7bd-6769ae7178e0",
   "metadata": {},
   "outputs": [],
   "source": [
    "df_rating = pd.read_csv(r'archive (2)\\rating.csv')\n",
    "df_anime = pd.read_csv(r'archive (2)\\anime.csv')"
   ]
  },
  {
   "cell_type": "code",
   "execution_count": 4,
   "id": "70d8d245-aca7-4593-93dd-df1935140c20",
   "metadata": {},
   "outputs": [],
   "source": [
    "#load data into suprise object\n",
    "\n",
    "reader = Reader(line_format='user item rating', sep=',',rating_scale=(1, 10),skip_lines=1)\n",
    "WholeSet = Dataset.load_from_file('core_tv_comedy_rating.csv', reader)\n",
    "S_train = Dataset.load_from_file('train.csv', reader)\n",
    "S_test = Dataset.load_from_file('test.csv', reader)\n",
    "\n",
    "# surprise trainset  \n",
    "trainset = S_train.build_full_trainset() # 80% of data for training\n",
    "WholeSet_train = WholeSet.build_full_trainset() # wholeSet as training\n",
    "\n",
    "# testset for evaluating RMSE\n",
    "\n",
    "testset = list(map(lambda x : x[0:3],S_test.raw_ratings)) # 20% of data as testset for evaluating rmse\n",
    "\n",
    "\n",
    "# testset for evaluating relevence(Precision, Recall, NDCG)\n",
    "NoRatingSet = WholeSet_train.build_anti_testset(fill=1) #whole unknown rating\n",
    "\n",
    "_, noRate_test = train_test_split(NoRatingSet, test_size=0.2, random_state=1, stratify=list(map(lambda x: x[0], NoRatingSet)))\n",
    "\n",
    "testPlusUnknown= testset + noRate_test #testset + 20% of unknown rating for evaluating relevence"
   ]
  },
  {
   "cell_type": "code",
   "execution_count": null,
   "id": "3053fd63-e7d1-4d6e-97b2-7e30f51434e7",
   "metadata": {},
   "outputs": [],
   "source": []
  }
 ],
 "metadata": {
  "kernelspec": {
   "display_name": "Python (anime_env)",
   "language": "python",
   "name": "anime_env"
  },
  "language_info": {
   "codemirror_mode": {
    "name": "ipython",
    "version": 3
   },
   "file_extension": ".py",
   "mimetype": "text/x-python",
   "name": "python",
   "nbconvert_exporter": "python",
   "pygments_lexer": "ipython3",
   "version": "3.12.0"
  }
 },
 "nbformat": 4,
 "nbformat_minor": 5
}
